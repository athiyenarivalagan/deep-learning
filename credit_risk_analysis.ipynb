{
  "nbformat": 4,
  "nbformat_minor": 0,
  "metadata": {
    "colab": {
      "provenance": [],
      "authorship_tag": "ABX9TyMBynRn+OFh1yYeYSxqL+/6",
      "include_colab_link": true
    },
    "kernelspec": {
      "name": "python3",
      "display_name": "Python 3"
    },
    "language_info": {
      "name": "python"
    }
  },
  "cells": [
    {
      "cell_type": "markdown",
      "metadata": {
        "id": "view-in-github",
        "colab_type": "text"
      },
      "source": [
        "<a href=\"https://colab.research.google.com/github/sreent/deep-learning/blob/main/credit_risk_analysis.ipynb\" target=\"_parent\"><img src=\"https://colab.research.google.com/assets/colab-badge.svg\" alt=\"Open In Colab\"/></a>"
      ]
    },
    {
      "cell_type": "code",
      "execution_count": 226,
      "metadata": {
        "id": "i4S0tiStcOxV"
      },
      "outputs": [],
      "source": [
        "import pandas as pd\n",
        "import numpy as np\n",
        "\n",
        "from sklearn.preprocessing import OneHotEncoder, StandardScaler\n",
        "from sklearn.compose import ColumnTransformer\n",
        "from sklearn.model_selection import train_test_split\n",
        "\n",
        "from sklearn.linear_model import LogisticRegression\n",
        "from sklearn.metrics import roc_auc_score, accuracy_score\n",
        "from sklearn.model_selection import StratifiedKFold\n",
        "\n",
        "import tensorflow as tf\n",
        "from keras.models import Sequential\n",
        "from keras.layers import Dense, Dropout\n",
        "\n",
        "import itertools"
      ]
    },
    {
      "cell_type": "markdown",
      "source": [
        "## Problem Definition and Assembling Dataset"
      ],
      "metadata": {
        "id": "rMENi1KPmc5i"
      }
    },
    {
      "cell_type": "code",
      "source": [
        "FILE_PATH = 'http://archive.ics.uci.edu/ml/machine-learning-databases/statlog/german/german.data'\n",
        "\n",
        "HEADERS = ['Status of existing checking account', 'Duration in month', 'Credit history',\n",
        "           'Purpose','Credit amount', 'Savings account/bonds', 'Present employment since',\n",
        "           'Installment rate in percentage of disposable income', 'Personal status and sex',\n",
        "           'Other debtors / guarantors', 'Present residence since', 'Property', 'Age in years',\n",
        "           'Other installment plans', 'Housing', 'Number of existing credits at this bank',\n",
        "           'Job', 'Number of people being liable to provide maintenance for', 'Telephone', 'Foreign worker', \n",
        "           'Cost Matrix(Risk)']\n",
        "\n",
        "TARGET_VARIABLE = 'Cost Matrix(Risk)'"
      ],
      "metadata": {
        "id": "0CRLFUaICaJS"
      },
      "execution_count": 37,
      "outputs": []
    },
    {
      "cell_type": "code",
      "source": [
        "NUMERICAL_VARIABLES = ['Duration in month', 'Credit amount', 'Installment rate in percentage of disposable income',\n",
        "                     'Present residence since', 'Age in years', 'Number of existing credits at this bank', \n",
        "                     'Number of people being liable to provide maintenance for']\n",
        "                     \n",
        "CATEGORICAL_VARIABLES = {\n",
        "    'Status of existing checking account': {\n",
        "        'A14': 'no checking account', 'A11': '<0 DM', 'A12': '0 <= <200 DM', \n",
        "        'A13': '>= 200 DM'\n",
        "    },\n",
        "    \n",
        "    'Credit history': {\n",
        "        'A34': 'critical account', 'A33': 'delay in paying off',\n",
        "        'A32': 'existing credits paid back duly till now',\n",
        "        'A31': 'all credits at this bank paid back duly',\n",
        "        'A30': 'no credits taken'\n",
        "    },\n",
        "                 \n",
        "    'Purpose': {\n",
        "        'A40': 'car (new)', 'A41': 'car (used)', 'A42': 'furniture/equipment', \n",
        "        'A43': 'radio/television', 'A44': 'domestic appliances', 'A45': 'repairs', \n",
        "        'A46': 'education', 'A47' : 'vacation', 'A48': 'retraining', 'A49': 'business',\n",
        "        'A410': 'others'\n",
        "    },\n",
        "\n",
        "    'Savings account/bonds': {\n",
        "        'A65': 'no savings account', 'A61': '<100 DM',\n",
        "        'A62': '100 <= <500 DM', 'A63': '500 <= < 1000 DM', 'A64': '>= 1000 DM'\n",
        "    },\n",
        "\n",
        "    'Present employment since': {\n",
        "        'A75': '>=7 years', 'A74': '4<= <7 years',  'A73': '1<= < 4 years', \n",
        "        'A72': '<1 years', 'A71': 'unemployed'\n",
        "    },\n",
        "\n",
        "    'Personal status and sex': {\n",
        "        'A95': 'female:single', 'A94': 'male:married/widowed', 'A93': 'male:single', \n",
        "        'A92': 'female:divorced/separated/married', 'A91': 'male:divorced/separated'\n",
        "    },\n",
        "\n",
        "    'Other debtors / guarantors': {\n",
        "        'A101': 'none', 'A102': 'co-applicant', 'A103': 'guarantor'\n",
        "    },\n",
        "\n",
        "    'Property': {\n",
        "        'A121': 'real estate', 'A122': 'savings agreement/life insurance', \n",
        "        'A123': 'car or other', 'A124': 'unknown / no property'\n",
        "    },\n",
        "\n",
        "    'Other installment plans': {\n",
        "        'A143': 'none', 'A142': 'store', 'A141': 'bank'\n",
        "    },\n",
        "    \n",
        "    'Housing': {\n",
        "        'A153': 'for free', 'A152': 'own', 'A151': 'rent'\n",
        "    },\n",
        "\n",
        "    'Job': {\n",
        "        'A174': 'management/ highly qualified employee', \n",
        "        'A173': 'skilled employee / official', 'A172': 'unskilled - resident', \n",
        "        'A171': 'unemployed/ unskilled  - non-resident'\n",
        "    },\n",
        "    \n",
        "    'Telephone': {\n",
        "        'A192': 'yes', 'A191': 'none'\n",
        "    },\n",
        "\n",
        "    'Foreign worker': {\n",
        "        'A201': 'yes', 'A202': 'no'\n",
        "    }\n",
        "}"
      ],
      "metadata": {
        "id": "5JFONh8RCjBd"
      },
      "execution_count": 51,
      "outputs": []
    },
    {
      "cell_type": "code",
      "source": [
        "# Load loan data from URL using pandas read_csv method\n",
        "df = pd.read_csv(FILE_PATH, sep=\" \", header=None)\n",
        "\n",
        "# The data file is headless, i.e. without column names. Hence, we've to assign the column names to our data frame. \n",
        "df.columns = HEADERS\n",
        "\n",
        "# Preview data to check if the column names are assigned properly and also the columns' variable types\n",
        "df.head()"
      ],
      "metadata": {
        "colab": {
          "base_uri": "https://localhost:8080/",
          "height": 404
        },
        "id": "K6PNh6boobfd",
        "outputId": "7433f0a3-b3e0-4c6a-e81f-9ac55a594b3a"
      },
      "execution_count": 52,
      "outputs": [
        {
          "output_type": "execute_result",
          "data": {
            "text/plain": [
              "  Status of existing checking account  Duration in month Credit history  \\\n",
              "0                                 A11                  6            A34   \n",
              "1                                 A12                 48            A32   \n",
              "2                                 A14                 12            A34   \n",
              "3                                 A11                 42            A32   \n",
              "4                                 A11                 24            A33   \n",
              "\n",
              "  Purpose  Credit amount Savings account/bonds Present employment since  \\\n",
              "0     A43           1169                   A65                      A75   \n",
              "1     A43           5951                   A61                      A73   \n",
              "2     A46           2096                   A61                      A74   \n",
              "3     A42           7882                   A61                      A74   \n",
              "4     A40           4870                   A61                      A73   \n",
              "\n",
              "   Installment rate in percentage of disposable income  \\\n",
              "0                                                  4     \n",
              "1                                                  2     \n",
              "2                                                  2     \n",
              "3                                                  2     \n",
              "4                                                  3     \n",
              "\n",
              "  Personal status and sex Other debtors / guarantors  ...  Property  \\\n",
              "0                     A93                       A101  ...      A121   \n",
              "1                     A92                       A101  ...      A121   \n",
              "2                     A93                       A101  ...      A121   \n",
              "3                     A93                       A103  ...      A122   \n",
              "4                     A93                       A101  ...      A124   \n",
              "\n",
              "  Age in years  Other installment plans Housing  \\\n",
              "0           67                     A143    A152   \n",
              "1           22                     A143    A152   \n",
              "2           49                     A143    A152   \n",
              "3           45                     A143    A153   \n",
              "4           53                     A143    A153   \n",
              "\n",
              "  Number of existing credits at this bank   Job  \\\n",
              "0                                       2  A173   \n",
              "1                                       1  A173   \n",
              "2                                       1  A172   \n",
              "3                                       1  A173   \n",
              "4                                       2  A173   \n",
              "\n",
              "  Number of people being liable to provide maintenance for  Telephone  \\\n",
              "0                                                  1             A192   \n",
              "1                                                  1             A191   \n",
              "2                                                  2             A191   \n",
              "3                                                  2             A191   \n",
              "4                                                  2             A191   \n",
              "\n",
              "  Foreign worker Cost Matrix(Risk)  \n",
              "0           A201                 1  \n",
              "1           A201                 2  \n",
              "2           A201                 1  \n",
              "3           A201                 1  \n",
              "4           A201                 2  \n",
              "\n",
              "[5 rows x 21 columns]"
            ],
            "text/html": [
              "\n",
              "  <div id=\"df-c4a55182-3776-44df-884b-4b6c55fc9725\">\n",
              "    <div class=\"colab-df-container\">\n",
              "      <div>\n",
              "<style scoped>\n",
              "    .dataframe tbody tr th:only-of-type {\n",
              "        vertical-align: middle;\n",
              "    }\n",
              "\n",
              "    .dataframe tbody tr th {\n",
              "        vertical-align: top;\n",
              "    }\n",
              "\n",
              "    .dataframe thead th {\n",
              "        text-align: right;\n",
              "    }\n",
              "</style>\n",
              "<table border=\"1\" class=\"dataframe\">\n",
              "  <thead>\n",
              "    <tr style=\"text-align: right;\">\n",
              "      <th></th>\n",
              "      <th>Status of existing checking account</th>\n",
              "      <th>Duration in month</th>\n",
              "      <th>Credit history</th>\n",
              "      <th>Purpose</th>\n",
              "      <th>Credit amount</th>\n",
              "      <th>Savings account/bonds</th>\n",
              "      <th>Present employment since</th>\n",
              "      <th>Installment rate in percentage of disposable income</th>\n",
              "      <th>Personal status and sex</th>\n",
              "      <th>Other debtors / guarantors</th>\n",
              "      <th>...</th>\n",
              "      <th>Property</th>\n",
              "      <th>Age in years</th>\n",
              "      <th>Other installment plans</th>\n",
              "      <th>Housing</th>\n",
              "      <th>Number of existing credits at this bank</th>\n",
              "      <th>Job</th>\n",
              "      <th>Number of people being liable to provide maintenance for</th>\n",
              "      <th>Telephone</th>\n",
              "      <th>Foreign worker</th>\n",
              "      <th>Cost Matrix(Risk)</th>\n",
              "    </tr>\n",
              "  </thead>\n",
              "  <tbody>\n",
              "    <tr>\n",
              "      <th>0</th>\n",
              "      <td>A11</td>\n",
              "      <td>6</td>\n",
              "      <td>A34</td>\n",
              "      <td>A43</td>\n",
              "      <td>1169</td>\n",
              "      <td>A65</td>\n",
              "      <td>A75</td>\n",
              "      <td>4</td>\n",
              "      <td>A93</td>\n",
              "      <td>A101</td>\n",
              "      <td>...</td>\n",
              "      <td>A121</td>\n",
              "      <td>67</td>\n",
              "      <td>A143</td>\n",
              "      <td>A152</td>\n",
              "      <td>2</td>\n",
              "      <td>A173</td>\n",
              "      <td>1</td>\n",
              "      <td>A192</td>\n",
              "      <td>A201</td>\n",
              "      <td>1</td>\n",
              "    </tr>\n",
              "    <tr>\n",
              "      <th>1</th>\n",
              "      <td>A12</td>\n",
              "      <td>48</td>\n",
              "      <td>A32</td>\n",
              "      <td>A43</td>\n",
              "      <td>5951</td>\n",
              "      <td>A61</td>\n",
              "      <td>A73</td>\n",
              "      <td>2</td>\n",
              "      <td>A92</td>\n",
              "      <td>A101</td>\n",
              "      <td>...</td>\n",
              "      <td>A121</td>\n",
              "      <td>22</td>\n",
              "      <td>A143</td>\n",
              "      <td>A152</td>\n",
              "      <td>1</td>\n",
              "      <td>A173</td>\n",
              "      <td>1</td>\n",
              "      <td>A191</td>\n",
              "      <td>A201</td>\n",
              "      <td>2</td>\n",
              "    </tr>\n",
              "    <tr>\n",
              "      <th>2</th>\n",
              "      <td>A14</td>\n",
              "      <td>12</td>\n",
              "      <td>A34</td>\n",
              "      <td>A46</td>\n",
              "      <td>2096</td>\n",
              "      <td>A61</td>\n",
              "      <td>A74</td>\n",
              "      <td>2</td>\n",
              "      <td>A93</td>\n",
              "      <td>A101</td>\n",
              "      <td>...</td>\n",
              "      <td>A121</td>\n",
              "      <td>49</td>\n",
              "      <td>A143</td>\n",
              "      <td>A152</td>\n",
              "      <td>1</td>\n",
              "      <td>A172</td>\n",
              "      <td>2</td>\n",
              "      <td>A191</td>\n",
              "      <td>A201</td>\n",
              "      <td>1</td>\n",
              "    </tr>\n",
              "    <tr>\n",
              "      <th>3</th>\n",
              "      <td>A11</td>\n",
              "      <td>42</td>\n",
              "      <td>A32</td>\n",
              "      <td>A42</td>\n",
              "      <td>7882</td>\n",
              "      <td>A61</td>\n",
              "      <td>A74</td>\n",
              "      <td>2</td>\n",
              "      <td>A93</td>\n",
              "      <td>A103</td>\n",
              "      <td>...</td>\n",
              "      <td>A122</td>\n",
              "      <td>45</td>\n",
              "      <td>A143</td>\n",
              "      <td>A153</td>\n",
              "      <td>1</td>\n",
              "      <td>A173</td>\n",
              "      <td>2</td>\n",
              "      <td>A191</td>\n",
              "      <td>A201</td>\n",
              "      <td>1</td>\n",
              "    </tr>\n",
              "    <tr>\n",
              "      <th>4</th>\n",
              "      <td>A11</td>\n",
              "      <td>24</td>\n",
              "      <td>A33</td>\n",
              "      <td>A40</td>\n",
              "      <td>4870</td>\n",
              "      <td>A61</td>\n",
              "      <td>A73</td>\n",
              "      <td>3</td>\n",
              "      <td>A93</td>\n",
              "      <td>A101</td>\n",
              "      <td>...</td>\n",
              "      <td>A124</td>\n",
              "      <td>53</td>\n",
              "      <td>A143</td>\n",
              "      <td>A153</td>\n",
              "      <td>2</td>\n",
              "      <td>A173</td>\n",
              "      <td>2</td>\n",
              "      <td>A191</td>\n",
              "      <td>A201</td>\n",
              "      <td>2</td>\n",
              "    </tr>\n",
              "  </tbody>\n",
              "</table>\n",
              "<p>5 rows × 21 columns</p>\n",
              "</div>\n",
              "      <button class=\"colab-df-convert\" onclick=\"convertToInteractive('df-c4a55182-3776-44df-884b-4b6c55fc9725')\"\n",
              "              title=\"Convert this dataframe to an interactive table.\"\n",
              "              style=\"display:none;\">\n",
              "        \n",
              "  <svg xmlns=\"http://www.w3.org/2000/svg\" height=\"24px\"viewBox=\"0 0 24 24\"\n",
              "       width=\"24px\">\n",
              "    <path d=\"M0 0h24v24H0V0z\" fill=\"none\"/>\n",
              "    <path d=\"M18.56 5.44l.94 2.06.94-2.06 2.06-.94-2.06-.94-.94-2.06-.94 2.06-2.06.94zm-11 1L8.5 8.5l.94-2.06 2.06-.94-2.06-.94L8.5 2.5l-.94 2.06-2.06.94zm10 10l.94 2.06.94-2.06 2.06-.94-2.06-.94-.94-2.06-.94 2.06-2.06.94z\"/><path d=\"M17.41 7.96l-1.37-1.37c-.4-.4-.92-.59-1.43-.59-.52 0-1.04.2-1.43.59L10.3 9.45l-7.72 7.72c-.78.78-.78 2.05 0 2.83L4 21.41c.39.39.9.59 1.41.59.51 0 1.02-.2 1.41-.59l7.78-7.78 2.81-2.81c.8-.78.8-2.07 0-2.86zM5.41 20L4 18.59l7.72-7.72 1.47 1.35L5.41 20z\"/>\n",
              "  </svg>\n",
              "      </button>\n",
              "      \n",
              "  <style>\n",
              "    .colab-df-container {\n",
              "      display:flex;\n",
              "      flex-wrap:wrap;\n",
              "      gap: 12px;\n",
              "    }\n",
              "\n",
              "    .colab-df-convert {\n",
              "      background-color: #E8F0FE;\n",
              "      border: none;\n",
              "      border-radius: 50%;\n",
              "      cursor: pointer;\n",
              "      display: none;\n",
              "      fill: #1967D2;\n",
              "      height: 32px;\n",
              "      padding: 0 0 0 0;\n",
              "      width: 32px;\n",
              "    }\n",
              "\n",
              "    .colab-df-convert:hover {\n",
              "      background-color: #E2EBFA;\n",
              "      box-shadow: 0px 1px 2px rgba(60, 64, 67, 0.3), 0px 1px 3px 1px rgba(60, 64, 67, 0.15);\n",
              "      fill: #174EA6;\n",
              "    }\n",
              "\n",
              "    [theme=dark] .colab-df-convert {\n",
              "      background-color: #3B4455;\n",
              "      fill: #D2E3FC;\n",
              "    }\n",
              "\n",
              "    [theme=dark] .colab-df-convert:hover {\n",
              "      background-color: #434B5C;\n",
              "      box-shadow: 0px 1px 3px 1px rgba(0, 0, 0, 0.15);\n",
              "      filter: drop-shadow(0px 1px 2px rgba(0, 0, 0, 0.3));\n",
              "      fill: #FFFFFF;\n",
              "    }\n",
              "  </style>\n",
              "\n",
              "      <script>\n",
              "        const buttonEl =\n",
              "          document.querySelector('#df-c4a55182-3776-44df-884b-4b6c55fc9725 button.colab-df-convert');\n",
              "        buttonEl.style.display =\n",
              "          google.colab.kernel.accessAllowed ? 'block' : 'none';\n",
              "\n",
              "        async function convertToInteractive(key) {\n",
              "          const element = document.querySelector('#df-c4a55182-3776-44df-884b-4b6c55fc9725');\n",
              "          const dataTable =\n",
              "            await google.colab.kernel.invokeFunction('convertToInteractive',\n",
              "                                                     [key], {});\n",
              "          if (!dataTable) return;\n",
              "\n",
              "          const docLinkHtml = 'Like what you see? Visit the ' +\n",
              "            '<a target=\"_blank\" href=https://colab.research.google.com/notebooks/data_table.ipynb>data table notebook</a>'\n",
              "            + ' to learn more about interactive tables.';\n",
              "          element.innerHTML = '';\n",
              "          dataTable['output_type'] = 'display_data';\n",
              "          await google.colab.output.renderOutput(dataTable, element);\n",
              "          const docLink = document.createElement('div');\n",
              "          docLink.innerHTML = docLinkHtml;\n",
              "          element.appendChild(docLink);\n",
              "        }\n",
              "      </script>\n",
              "    </div>\n",
              "  </div>\n",
              "  "
            ]
          },
          "metadata": {},
          "execution_count": 52
        }
      ]
    },
    {
      "cell_type": "code",
      "source": [
        "# Target columns\n",
        "target = df[TARGET_VARIABLE]\n",
        "\n",
        "# Reformat entries to be either 0 (not default) and 1 (default), instead of 1 and 2. \n",
        "# This format is preferred in case of binary classificaiton problem.\n",
        "target = target - 1\n",
        "\n",
        "# Preview if \n",
        "print(\"The target column is now re-valued from [1, 2] to\", target.unique(), \".\")"
      ],
      "metadata": {
        "colab": {
          "base_uri": "https://localhost:8080/"
        },
        "id": "WAkLiDG7oft5",
        "outputId": "ee79c2ab-6ca1-48d2-b970-47ed3c45fd0f"
      },
      "execution_count": 53,
      "outputs": [
        {
          "output_type": "stream",
          "name": "stdout",
          "text": [
            "The target column is now re-valued from [1, 2] to [0 1] .\n"
          ]
        }
      ]
    },
    {
      "cell_type": "code",
      "source": [
        "# Feature columns to be used as predictors\n",
        "features = df.drop(columns=[TARGET_VARIABLE])\n",
        "\n",
        "# Replace encoded entries, e.g. Axxx, with their orignal values\n",
        "for column, attributes in CATEGORICAL_VARIABLES.items() :\n",
        "  features[column] = features[column].map(attributes) \n",
        "\n",
        "features.head()"
      ],
      "metadata": {
        "colab": {
          "base_uri": "https://localhost:8080/",
          "height": 652
        },
        "id": "ess032Dwyqgi",
        "outputId": "9830ce1c-bfcd-42d7-f1a1-74e9005d264c"
      },
      "execution_count": 138,
      "outputs": [
        {
          "output_type": "execute_result",
          "data": {
            "text/plain": [
              "  Status of existing checking account  Duration in month  \\\n",
              "0                               <0 DM                  6   \n",
              "1                        0 <= <200 DM                 48   \n",
              "2                 no checking account                 12   \n",
              "3                               <0 DM                 42   \n",
              "4                               <0 DM                 24   \n",
              "\n",
              "                             Credit history              Purpose  \\\n",
              "0                          critical account     radio/television   \n",
              "1  existing credits paid back duly till now     radio/television   \n",
              "2                          critical account            education   \n",
              "3  existing credits paid back duly till now  furniture/equipment   \n",
              "4                       delay in paying off            car (new)   \n",
              "\n",
              "   Credit amount Savings account/bonds Present employment since  \\\n",
              "0           1169    no savings account                >=7 years   \n",
              "1           5951               <100 DM            1<= < 4 years   \n",
              "2           2096               <100 DM             4<= <7 years   \n",
              "3           7882               <100 DM             4<= <7 years   \n",
              "4           4870               <100 DM            1<= < 4 years   \n",
              "\n",
              "   Installment rate in percentage of disposable income  \\\n",
              "0                                                  4     \n",
              "1                                                  2     \n",
              "2                                                  2     \n",
              "3                                                  2     \n",
              "4                                                  3     \n",
              "\n",
              "             Personal status and sex Other debtors / guarantors  \\\n",
              "0                        male:single                       none   \n",
              "1  female:divorced/separated/married                       none   \n",
              "2                        male:single                       none   \n",
              "3                        male:single                  guarantor   \n",
              "4                        male:single                       none   \n",
              "\n",
              "   Present residence since                          Property  Age in years  \\\n",
              "0                        4                       real estate            67   \n",
              "1                        2                       real estate            22   \n",
              "2                        3                       real estate            49   \n",
              "3                        4  savings agreement/life insurance            45   \n",
              "4                        4             unknown / no property            53   \n",
              "\n",
              "  Other installment plans   Housing  Number of existing credits at this bank  \\\n",
              "0                    none       own                                        2   \n",
              "1                    none       own                                        1   \n",
              "2                    none       own                                        1   \n",
              "3                    none  for free                                        1   \n",
              "4                    none  for free                                        2   \n",
              "\n",
              "                           Job  \\\n",
              "0  skilled employee / official   \n",
              "1  skilled employee / official   \n",
              "2         unskilled - resident   \n",
              "3  skilled employee / official   \n",
              "4  skilled employee / official   \n",
              "\n",
              "   Number of people being liable to provide maintenance for Telephone  \\\n",
              "0                                                  1              yes   \n",
              "1                                                  1             none   \n",
              "2                                                  2             none   \n",
              "3                                                  2             none   \n",
              "4                                                  2             none   \n",
              "\n",
              "  Foreign worker  \n",
              "0            yes  \n",
              "1            yes  \n",
              "2            yes  \n",
              "3            yes  \n",
              "4            yes  "
            ],
            "text/html": [
              "\n",
              "  <div id=\"df-1ea0907a-b777-4e29-b9f5-bcf6547330bf\">\n",
              "    <div class=\"colab-df-container\">\n",
              "      <div>\n",
              "<style scoped>\n",
              "    .dataframe tbody tr th:only-of-type {\n",
              "        vertical-align: middle;\n",
              "    }\n",
              "\n",
              "    .dataframe tbody tr th {\n",
              "        vertical-align: top;\n",
              "    }\n",
              "\n",
              "    .dataframe thead th {\n",
              "        text-align: right;\n",
              "    }\n",
              "</style>\n",
              "<table border=\"1\" class=\"dataframe\">\n",
              "  <thead>\n",
              "    <tr style=\"text-align: right;\">\n",
              "      <th></th>\n",
              "      <th>Status of existing checking account</th>\n",
              "      <th>Duration in month</th>\n",
              "      <th>Credit history</th>\n",
              "      <th>Purpose</th>\n",
              "      <th>Credit amount</th>\n",
              "      <th>Savings account/bonds</th>\n",
              "      <th>Present employment since</th>\n",
              "      <th>Installment rate in percentage of disposable income</th>\n",
              "      <th>Personal status and sex</th>\n",
              "      <th>Other debtors / guarantors</th>\n",
              "      <th>Present residence since</th>\n",
              "      <th>Property</th>\n",
              "      <th>Age in years</th>\n",
              "      <th>Other installment plans</th>\n",
              "      <th>Housing</th>\n",
              "      <th>Number of existing credits at this bank</th>\n",
              "      <th>Job</th>\n",
              "      <th>Number of people being liable to provide maintenance for</th>\n",
              "      <th>Telephone</th>\n",
              "      <th>Foreign worker</th>\n",
              "    </tr>\n",
              "  </thead>\n",
              "  <tbody>\n",
              "    <tr>\n",
              "      <th>0</th>\n",
              "      <td>&lt;0 DM</td>\n",
              "      <td>6</td>\n",
              "      <td>critical account</td>\n",
              "      <td>radio/television</td>\n",
              "      <td>1169</td>\n",
              "      <td>no savings account</td>\n",
              "      <td>&gt;=7 years</td>\n",
              "      <td>4</td>\n",
              "      <td>male:single</td>\n",
              "      <td>none</td>\n",
              "      <td>4</td>\n",
              "      <td>real estate</td>\n",
              "      <td>67</td>\n",
              "      <td>none</td>\n",
              "      <td>own</td>\n",
              "      <td>2</td>\n",
              "      <td>skilled employee / official</td>\n",
              "      <td>1</td>\n",
              "      <td>yes</td>\n",
              "      <td>yes</td>\n",
              "    </tr>\n",
              "    <tr>\n",
              "      <th>1</th>\n",
              "      <td>0 &lt;= &lt;200 DM</td>\n",
              "      <td>48</td>\n",
              "      <td>existing credits paid back duly till now</td>\n",
              "      <td>radio/television</td>\n",
              "      <td>5951</td>\n",
              "      <td>&lt;100 DM</td>\n",
              "      <td>1&lt;= &lt; 4 years</td>\n",
              "      <td>2</td>\n",
              "      <td>female:divorced/separated/married</td>\n",
              "      <td>none</td>\n",
              "      <td>2</td>\n",
              "      <td>real estate</td>\n",
              "      <td>22</td>\n",
              "      <td>none</td>\n",
              "      <td>own</td>\n",
              "      <td>1</td>\n",
              "      <td>skilled employee / official</td>\n",
              "      <td>1</td>\n",
              "      <td>none</td>\n",
              "      <td>yes</td>\n",
              "    </tr>\n",
              "    <tr>\n",
              "      <th>2</th>\n",
              "      <td>no checking account</td>\n",
              "      <td>12</td>\n",
              "      <td>critical account</td>\n",
              "      <td>education</td>\n",
              "      <td>2096</td>\n",
              "      <td>&lt;100 DM</td>\n",
              "      <td>4&lt;= &lt;7 years</td>\n",
              "      <td>2</td>\n",
              "      <td>male:single</td>\n",
              "      <td>none</td>\n",
              "      <td>3</td>\n",
              "      <td>real estate</td>\n",
              "      <td>49</td>\n",
              "      <td>none</td>\n",
              "      <td>own</td>\n",
              "      <td>1</td>\n",
              "      <td>unskilled - resident</td>\n",
              "      <td>2</td>\n",
              "      <td>none</td>\n",
              "      <td>yes</td>\n",
              "    </tr>\n",
              "    <tr>\n",
              "      <th>3</th>\n",
              "      <td>&lt;0 DM</td>\n",
              "      <td>42</td>\n",
              "      <td>existing credits paid back duly till now</td>\n",
              "      <td>furniture/equipment</td>\n",
              "      <td>7882</td>\n",
              "      <td>&lt;100 DM</td>\n",
              "      <td>4&lt;= &lt;7 years</td>\n",
              "      <td>2</td>\n",
              "      <td>male:single</td>\n",
              "      <td>guarantor</td>\n",
              "      <td>4</td>\n",
              "      <td>savings agreement/life insurance</td>\n",
              "      <td>45</td>\n",
              "      <td>none</td>\n",
              "      <td>for free</td>\n",
              "      <td>1</td>\n",
              "      <td>skilled employee / official</td>\n",
              "      <td>2</td>\n",
              "      <td>none</td>\n",
              "      <td>yes</td>\n",
              "    </tr>\n",
              "    <tr>\n",
              "      <th>4</th>\n",
              "      <td>&lt;0 DM</td>\n",
              "      <td>24</td>\n",
              "      <td>delay in paying off</td>\n",
              "      <td>car (new)</td>\n",
              "      <td>4870</td>\n",
              "      <td>&lt;100 DM</td>\n",
              "      <td>1&lt;= &lt; 4 years</td>\n",
              "      <td>3</td>\n",
              "      <td>male:single</td>\n",
              "      <td>none</td>\n",
              "      <td>4</td>\n",
              "      <td>unknown / no property</td>\n",
              "      <td>53</td>\n",
              "      <td>none</td>\n",
              "      <td>for free</td>\n",
              "      <td>2</td>\n",
              "      <td>skilled employee / official</td>\n",
              "      <td>2</td>\n",
              "      <td>none</td>\n",
              "      <td>yes</td>\n",
              "    </tr>\n",
              "  </tbody>\n",
              "</table>\n",
              "</div>\n",
              "      <button class=\"colab-df-convert\" onclick=\"convertToInteractive('df-1ea0907a-b777-4e29-b9f5-bcf6547330bf')\"\n",
              "              title=\"Convert this dataframe to an interactive table.\"\n",
              "              style=\"display:none;\">\n",
              "        \n",
              "  <svg xmlns=\"http://www.w3.org/2000/svg\" height=\"24px\"viewBox=\"0 0 24 24\"\n",
              "       width=\"24px\">\n",
              "    <path d=\"M0 0h24v24H0V0z\" fill=\"none\"/>\n",
              "    <path d=\"M18.56 5.44l.94 2.06.94-2.06 2.06-.94-2.06-.94-.94-2.06-.94 2.06-2.06.94zm-11 1L8.5 8.5l.94-2.06 2.06-.94-2.06-.94L8.5 2.5l-.94 2.06-2.06.94zm10 10l.94 2.06.94-2.06 2.06-.94-2.06-.94-.94-2.06-.94 2.06-2.06.94z\"/><path d=\"M17.41 7.96l-1.37-1.37c-.4-.4-.92-.59-1.43-.59-.52 0-1.04.2-1.43.59L10.3 9.45l-7.72 7.72c-.78.78-.78 2.05 0 2.83L4 21.41c.39.39.9.59 1.41.59.51 0 1.02-.2 1.41-.59l7.78-7.78 2.81-2.81c.8-.78.8-2.07 0-2.86zM5.41 20L4 18.59l7.72-7.72 1.47 1.35L5.41 20z\"/>\n",
              "  </svg>\n",
              "      </button>\n",
              "      \n",
              "  <style>\n",
              "    .colab-df-container {\n",
              "      display:flex;\n",
              "      flex-wrap:wrap;\n",
              "      gap: 12px;\n",
              "    }\n",
              "\n",
              "    .colab-df-convert {\n",
              "      background-color: #E8F0FE;\n",
              "      border: none;\n",
              "      border-radius: 50%;\n",
              "      cursor: pointer;\n",
              "      display: none;\n",
              "      fill: #1967D2;\n",
              "      height: 32px;\n",
              "      padding: 0 0 0 0;\n",
              "      width: 32px;\n",
              "    }\n",
              "\n",
              "    .colab-df-convert:hover {\n",
              "      background-color: #E2EBFA;\n",
              "      box-shadow: 0px 1px 2px rgba(60, 64, 67, 0.3), 0px 1px 3px 1px rgba(60, 64, 67, 0.15);\n",
              "      fill: #174EA6;\n",
              "    }\n",
              "\n",
              "    [theme=dark] .colab-df-convert {\n",
              "      background-color: #3B4455;\n",
              "      fill: #D2E3FC;\n",
              "    }\n",
              "\n",
              "    [theme=dark] .colab-df-convert:hover {\n",
              "      background-color: #434B5C;\n",
              "      box-shadow: 0px 1px 3px 1px rgba(0, 0, 0, 0.15);\n",
              "      filter: drop-shadow(0px 1px 2px rgba(0, 0, 0, 0.3));\n",
              "      fill: #FFFFFF;\n",
              "    }\n",
              "  </style>\n",
              "\n",
              "      <script>\n",
              "        const buttonEl =\n",
              "          document.querySelector('#df-1ea0907a-b777-4e29-b9f5-bcf6547330bf button.colab-df-convert');\n",
              "        buttonEl.style.display =\n",
              "          google.colab.kernel.accessAllowed ? 'block' : 'none';\n",
              "\n",
              "        async function convertToInteractive(key) {\n",
              "          const element = document.querySelector('#df-1ea0907a-b777-4e29-b9f5-bcf6547330bf');\n",
              "          const dataTable =\n",
              "            await google.colab.kernel.invokeFunction('convertToInteractive',\n",
              "                                                     [key], {});\n",
              "          if (!dataTable) return;\n",
              "\n",
              "          const docLinkHtml = 'Like what you see? Visit the ' +\n",
              "            '<a target=\"_blank\" href=https://colab.research.google.com/notebooks/data_table.ipynb>data table notebook</a>'\n",
              "            + ' to learn more about interactive tables.';\n",
              "          element.innerHTML = '';\n",
              "          dataTable['output_type'] = 'display_data';\n",
              "          await google.colab.output.renderOutput(dataTable, element);\n",
              "          const docLink = document.createElement('div');\n",
              "          docLink.innerHTML = docLinkHtml;\n",
              "          element.appendChild(docLink);\n",
              "        }\n",
              "      </script>\n",
              "    </div>\n",
              "  </div>\n",
              "  "
            ]
          },
          "metadata": {},
          "execution_count": 138
        }
      ]
    },
    {
      "cell_type": "markdown",
      "source": [],
      "metadata": {
        "id": "WB_6CiOGm59k"
      }
    },
    {
      "cell_type": "markdown",
      "source": [
        "## Evaluation Protocol"
      ],
      "metadata": {
        "id": "cMedzdI1m7-K"
      }
    },
    {
      "cell_type": "code",
      "source": [],
      "metadata": {
        "id": "MmkQkGyBnDhB"
      },
      "execution_count": null,
      "outputs": []
    },
    {
      "cell_type": "markdown",
      "source": [
        "## Data Preparation"
      ],
      "metadata": {
        "id": "0VAt2BBanCx1"
      }
    },
    {
      "cell_type": "code",
      "source": [
        "X_train, X_test, y_train, y_test = train_test_split(features, target, test_size=0.2, random_state=42, shuffle=True, stratify=target.values)"
      ],
      "metadata": {
        "id": "ZU-qas5qOUdz"
      },
      "execution_count": 213,
      "outputs": []
    },
    {
      "cell_type": "code",
      "source": [
        "preprocessor = ColumnTransformer([\n",
        "    ('one-hot-encoder', OneHotEncoder(handle_unknown=\"ignore\"), list(CATEGORICAL_VARIABLES.keys())),\n",
        "    ('standard_scaler', StandardScaler(), NUMERICAL_VARIABLES)])\n",
        "\n",
        "_ = preprocessor.fit(X_train)"
      ],
      "metadata": {
        "id": "s637nBSN5kcI"
      },
      "execution_count": 215,
      "outputs": []
    },
    {
      "cell_type": "code",
      "source": [
        "X_train, X_test = preprocessor.transform(X_train), preprocessor.transform(X_test)\n",
        "\n",
        "y_train, y_test = y_train.values, y_test.values"
      ],
      "metadata": {
        "id": "-GUPy41G5qFU"
      },
      "execution_count": 216,
      "outputs": []
    },
    {
      "cell_type": "code",
      "source": [
        "X_train, X_val, y_train, y_val = train_test_split(X_train, y_train, test_size=0.2, random_state=42, shuffle=True, stratify=y_train)"
      ],
      "metadata": {
        "id": "8IMj6wufiS7U"
      },
      "execution_count": 157,
      "outputs": []
    },
    {
      "cell_type": "markdown",
      "source": [
        "## Developing Model that does better than a baseline"
      ],
      "metadata": {
        "id": "BREY_OZLnOLS"
      }
    },
    {
      "cell_type": "code",
      "source": [
        "INPUT_DIMENSION = X_train.shape[1]\n",
        "\n",
        "model = Sequential()\n",
        "#model.add(layers.Dense(INPUT_DIMENSION, activation='relu', input_shape=(INPUT_DIMENSION,)))\n",
        "#model.add(layers.Dropout(0.5))\n",
        "#model.add(layers.Dense(1, activation='sigmoid'))\n",
        "\n",
        "#model.add(layers.Dense(INPUT_DIMENSION, activation='relu', input_shape=(INPUT_DIMENSION,)))\n",
        "#model.add(layers.Dropout(0.5))\n",
        "model.add(Dense(1, activation='sigmoid', input_shape=(INPUT_DIMENSION,)))\n",
        "\n",
        "model.compile(optimizer='rmsprop',\n",
        "              loss='binary_crossentropy',\n",
        "              metrics=[tf.keras.metrics.AUC()])\n",
        "\n",
        "model.fit(X_train, y_train, batch_size=64, epochs=50, \n",
        "          validation_data=(X_val, y_val), verbose=0)\n",
        "model.evaluate(X_test, y_test)"
      ],
      "metadata": {
        "colab": {
          "base_uri": "https://localhost:8080/"
        },
        "id": "JhwvrYyxKFHu",
        "outputId": "a5ff5f76-b44c-4531-c2e7-bdab6bd32e27"
      },
      "execution_count": 159,
      "outputs": [
        {
          "output_type": "stream",
          "name": "stdout",
          "text": [
            "7/7 [==============================] - 0s 3ms/step - loss: 0.5169 - auc_13: 0.7645\n"
          ]
        },
        {
          "output_type": "execute_result",
          "data": {
            "text/plain": [
              "[0.5168579816818237, 0.7645238041877747]"
            ]
          },
          "metadata": {},
          "execution_count": 159
        }
      ]
    },
    {
      "cell_type": "code",
      "source": [
        "print(roc_auc_score(y_test, model.predict(X_test)))\n",
        "print(accuracy_score(y_test, (model.predict(X_test) > 0.5).astype('int32')))"
      ],
      "metadata": {
        "colab": {
          "base_uri": "https://localhost:8080/"
        },
        "id": "RwqCWd3BW67G",
        "outputId": "e9b8afe2-0060-4706-c7bd-81f26379fe62"
      },
      "execution_count": 160,
      "outputs": [
        {
          "output_type": "stream",
          "name": "stdout",
          "text": [
            "7/7 [==============================] - 0s 3ms/step\n",
            "0.7644047619047619\n",
            "7/7 [==============================] - 0s 2ms/step\n",
            "0.745\n"
          ]
        }
      ]
    },
    {
      "cell_type": "code",
      "source": [
        "X_train"
      ],
      "metadata": {
        "colab": {
          "base_uri": "https://localhost:8080/"
        },
        "id": "U-7P89HuZa3V",
        "outputId": "ff50217e-0337-4d87-9be0-dbfe97d3cbdd"
      },
      "execution_count": 206,
      "outputs": [
        {
          "output_type": "execute_result",
          "data": {
            "text/plain": [
              "array([[ 0.        ,  1.        ,  0.        , ...,  1.05778394,\n",
              "        -0.71874547, -0.43643578],\n",
              "       [ 0.        ,  0.        ,  0.        , ...,  0.24244893,\n",
              "        -0.71874547, -0.43643578],\n",
              "       [ 0.        ,  1.        ,  0.        , ..., -0.66347887,\n",
              "         1.04504709, -0.43643578],\n",
              "       ...,\n",
              "       [ 0.        ,  0.        ,  0.        , ...,  0.69541282,\n",
              "        -0.71874547, -0.43643578],\n",
              "       [ 0.        ,  1.        ,  0.        , ..., -1.11644277,\n",
              "         1.04504709, -0.43643578],\n",
              "       [ 0.        ,  0.        ,  0.        , ..., -0.21051497,\n",
              "        -0.71874547, -0.43643578]])"
            ]
          },
          "metadata": {},
          "execution_count": 206
        }
      ]
    },
    {
      "cell_type": "markdown",
      "source": [
        "## Scaling Up: an Overfitted Model"
      ],
      "metadata": {
        "id": "N4sCP0gBnohA"
      }
    },
    {
      "cell_type": "code",
      "source": [
        "model = Sequential()\n",
        "model.add(Dense(42, activation='relu', input_shape=(INPUT_DIMENSION,)))\n",
        "#model.add(Dropout(0.5))\n",
        "model.add(Dense(1, activation='sigmoid'))\n",
        "\n",
        "\n",
        "model.compile(optimizer='rmsprop',\n",
        "              loss='binary_crossentropy',\n",
        "              metrics=[tf.keras.metrics.AUC()])\n",
        "\n",
        "model.fit(X_train, y_train, batch_size=32, epochs=50, \n",
        "          validation_data=(X_val, y_val), verbose=0)\n",
        "model.evaluate(X_val, y_val)"
      ],
      "metadata": {
        "colab": {
          "base_uri": "https://localhost:8080/"
        },
        "id": "R2XYKvLXKID3",
        "outputId": "c170c208-e6b2-4d2d-b9a4-51b7a588aba1"
      },
      "execution_count": 168,
      "outputs": [
        {
          "output_type": "stream",
          "name": "stdout",
          "text": [
            "5/5 [==============================] - 0s 4ms/step - loss: 0.6261 - auc_21: 0.7070\n"
          ]
        },
        {
          "output_type": "execute_result",
          "data": {
            "text/plain": [
              "[0.626091718673706, 0.70703125]"
            ]
          },
          "metadata": {},
          "execution_count": 168
        }
      ]
    },
    {
      "cell_type": "code",
      "source": [
        "model = Sequential()\n",
        "model.add(Dense(42, activation='relu', input_shape=(INPUT_DIMENSION,)))\n",
        "model.add(Dropout(0.5))\n",
        "model.add(Dense(42, activation='relu'))\n",
        "model.add(Dropout(0.5))\n",
        "model.add(Dense(1, activation='sigmoid'))\n",
        "\n",
        "\n",
        "model.compile(optimizer='rmsprop',\n",
        "              loss='binary_crossentropy',\n",
        "              metrics=[tf.keras.metrics.AUC()])\n",
        "\n",
        "model.fit(X_train, y_train, batch_size=32, epochs=100, \n",
        "          validation_data=(X_val, y_val), verbose=0)\n",
        "model.evaluate(X_val, y_val)"
      ],
      "metadata": {
        "colab": {
          "base_uri": "https://localhost:8080/"
        },
        "id": "APlceQ-XKtUO",
        "outputId": "b2a9d0ac-206c-48f4-ade8-c82f50b3f7da"
      },
      "execution_count": 169,
      "outputs": [
        {
          "output_type": "stream",
          "name": "stdout",
          "text": [
            "5/5 [==============================] - 0s 4ms/step - loss: 0.8065 - auc_22: 0.6818\n"
          ]
        },
        {
          "output_type": "execute_result",
          "data": {
            "text/plain": [
              "[0.8064553141593933, 0.681826651096344]"
            ]
          },
          "metadata": {},
          "execution_count": 169
        }
      ]
    },
    {
      "cell_type": "markdown",
      "source": [
        "## Regularisation and Hyper-Parameter Tuning"
      ],
      "metadata": {
        "id": "zWR0wO2Un3HT"
      }
    },
    {
      "cell_type": "code",
      "source": [
        "import matplotlib.pyplot as plt\n",
        "\n",
        "plt.scatter(embedded[:,0], embedded[:,1], c=target)"
      ],
      "metadata": {
        "colab": {
          "base_uri": "https://localhost:8080/",
          "height": 282
        },
        "id": "YNytnWDuKw8Y",
        "outputId": "241d8dae-141f-4c15-8c69-ebcfe98b9b5f"
      },
      "execution_count": 79,
      "outputs": [
        {
          "output_type": "execute_result",
          "data": {
            "text/plain": [
              "<matplotlib.collections.PathCollection at 0x7f9c63050580>"
            ]
          },
          "metadata": {},
          "execution_count": 79
        },
        {
          "output_type": "display_data",
          "data": {
            "text/plain": [
              "<Figure size 432x288 with 1 Axes>"
            ],
            "image/png": "[encoded data removed]"
          },
          "metadata": {
            "needs_background": "light"
          }
        }
      ]
    },
    {
      "cell_type": "code",
      "source": [
        "# define 10-fold cross validation test harness\n",
        "kfold = StratifiedKFold(n_splits=5, shuffle=True, random_state=seed)\n",
        "cvscores = []\n",
        "for train, test in kfold.split(X, Y):\n",
        " # create model\n",
        " model = Sequential()\n",
        " model.add(Dense(12, input_dim=8, activation='relu'))\n",
        " model.add(Dense(8, activation='relu'))\n",
        " model.add(Dense(1, activation='sigmoid'))\n",
        " # Compile model\n",
        " model.compile(loss='binary_crossentropy', optimizer='adam', metrics=['accuracy'])\n",
        " # Fit the model\n",
        " model.fit(X[train], Y[train], epochs=150, batch_size=10, verbose=0)\n",
        " # evaluate the model\n",
        " scores = model.evaluate(X[test], Y[test], verbose=0)\n",
        " print(\"%s: %.2f%%\" % (model.metrics_names[1], scores[1]*100))\n",
        " cvscores.append(scores[1] * 100)\n",
        " \n",
        "print(\"%.2f%% (+/- %.2f%%)\" % (np.mean(cvscores), np.std(cvscores)))"
      ],
      "metadata": {
        "id": "M_v4JyGCLOj2"
      },
      "execution_count": null,
      "outputs": []
    },
    {
      "cell_type": "code",
      "source": [
        "def multilayer_perceptron(hidden_layers, neurons, activation, dropout, inputs, outputs) :\n",
        "  model = Sequential()\n",
        "  for layer in range(hidden_layers) :\n",
        "    model.add(Dense(neurons, \n",
        "                    activation=activation, \n",
        "                    input_shape='default' if layer>1 else (inputs,)))\n",
        "    model.add(Dropout(dropout))\n",
        "\n",
        "\n",
        "  model.add(Dense(outputs, \n",
        "                  activation='sigmoid' if outputs==1 else 'softmax',\n",
        "                  input_shape='defult' if hidden_layers>0 else (inputs,)))\n",
        "\n",
        "  return model"
      ],
      "metadata": {
        "id": "VgFvJI_729r2"
      },
      "execution_count": 217,
      "outputs": []
    },
    {
      "cell_type": "code",
      "source": [
        "def grid_search_cv(X, y, search_space, cv, metric, seed) :\n",
        "  keys, values = zip(*search_space.items())\n",
        "\n",
        "  avgs = []\n",
        "  for params in [dict(zip(keys, v)) for v in itertools.product(*values)] :\n",
        "    kfold = StratifiedKFold(n_splits=cv, shuffle=True, random_state=seed)\n",
        "\n",
        "    scores = []\n",
        "    for train, test in kfold.split(X, y):\n",
        "      model = multilayer_perceptron(params['hidden_layers'], \n",
        "                                    params['neurons'], \n",
        "                                    params['activation'], \n",
        "                                    params['dropout'], INPUT_DIMENSION, 1)\n",
        "      \n",
        "      model.compile(optimizer='rmsprop',\n",
        "                loss='binary_crossentropy',\n",
        "                metrics=[metric])\n",
        "      \n",
        "      model.fit(X[train,:], y[train], batch_size=32, epochs=50, \n",
        "            validation_data=(X[test,:], y[test]), verbose=0)\n",
        "      \n",
        "      scores.append( model.evaluate(X[test], y[test], verbose=0)[1] )\n",
        "\n",
        "    avgs.append([params, np.mean(scores)])\n",
        "\n",
        "  df = pd.DataFrame(data=avgs, columns=['params', 'score'])\n",
        "\n",
        "  df.sort_values(by=['score'], ascending=False)\n",
        "\n",
        "  best_param = df.iloc[0]['params']\n",
        "  best_score = df.iloc[0]['score']\n",
        "\n",
        "  print(df.iloc[0])\n",
        "\n",
        "  return best_param, best_score"
      ],
      "metadata": {
        "id": "YxeuGZVZCFci"
      },
      "execution_count": 237,
      "outputs": []
    },
    {
      "cell_type": "code",
      "source": [
        "params = {'hidden_layers': [1, 2],\n",
        "          'neurons': [42],\n",
        "          'activation': ['relu', 'sigmoid'],\n",
        "          'dropout': [0.5]}\n",
        "\n",
        "#params = {'hidden_layers': [1, 2, 3],\n",
        "#          'neurons': [42],\n",
        "#          'activation': ['relu', 'sigmoid'],\n",
        "#          'dropout': [0.2, 0.3, 0.4, 0.5]}\n",
        "\n",
        "best_param, best_score = grid_search_cv(X_train, y_train, params, 5, tf.keras.metrics.AUC(), 204)"
      ],
      "metadata": {
        "colab": {
          "base_uri": "https://localhost:8080/"
        },
        "id": "XsOmC6Lo_uY8",
        "outputId": "0f2abd08-e86f-4956-fe24-e8d2d4c59ff9"
      },
      "execution_count": 238,
      "outputs": [
        {
          "output_type": "stream",
          "name": "stdout",
          "text": [
            "params    {'hidden_layers': 1, 'neurons': 42, 'activatio...\n",
            "score                                              0.774609\n",
            "Name: 0, dtype: object\n"
          ]
        }
      ]
    },
    {
      "cell_type": "code",
      "source": [
        "best_param, best_score"
      ],
      "metadata": {
        "colab": {
          "base_uri": "https://localhost:8080/"
        },
        "id": "LBNZU-6U6srX",
        "outputId": "ec6cafe6-90ee-4431-df81-1c4bea4d08bd"
      },
      "execution_count": 239,
      "outputs": [
        {
          "output_type": "execute_result",
          "data": {
            "text/plain": [
              "({'hidden_layers': 1, 'neurons': 42, 'activation': 'relu', 'dropout': 0.5},\n",
              " 0.774609363079071)"
            ]
          },
          "metadata": {},
          "execution_count": 239
        }
      ]
    },
    {
      "cell_type": "code",
      "source": [
        "best_param.keys()"
      ],
      "metadata": {
        "colab": {
          "base_uri": "https://localhost:8080/",
          "height": 168
        },
        "id": "kQLHxlju7MIi",
        "outputId": "4e1a08d4-bf57-440b-8284-271dba28fb14"
      },
      "execution_count": 236,
      "outputs": [
        {
          "output_type": "error",
          "ename": "AttributeError",
          "evalue": "ignored",
          "traceback": [
            "\u001b[0;31m---------------------------------------------------------------------------\u001b[0m",
            "\u001b[0;31mAttributeError\u001b[0m                            Traceback (most recent call last)",
            "\u001b[0;32m<ipython-input-236-f365e24cce8a>\u001b[0m in \u001b[0;36m<module>\u001b[0;34m\u001b[0m\n\u001b[0;32m----> 1\u001b[0;31m \u001b[0mbest_param\u001b[0m\u001b[0;34m.\u001b[0m\u001b[0mkeys\u001b[0m\u001b[0;34m(\u001b[0m\u001b[0;34m)\u001b[0m\u001b[0;34m\u001b[0m\u001b[0;34m\u001b[0m\u001b[0m\n\u001b[0m",
            "\u001b[0;31mAttributeError\u001b[0m: 'builtin_function_or_method' object has no attribute 'keys'"
          ]
        }
      ]
    },
    {
      "cell_type": "code",
      "source": [
        "KFOLDS = 5\n",
        "\n",
        "kfold = StratifiedKFold(n_splits=KFOLDS, shuffle=True, random_state=204)\n",
        "cvscores = []\n",
        "for train, test in kfold.split(X_train, y_train):\n",
        "  # create model\n",
        " model = Sequential()\n",
        " model.add(Dense(12, input_dim=8, activation='relu'))\n",
        " model.add(Dense(8, activation='relu'))\n",
        " model.add(Dense(1, activation='sigmoid'))\n",
        " # Compile model\n",
        " model.compile(loss='binary_crossentropy', optimizer='adam', metrics=['accuracy'])\n",
        " # Fit the model\n",
        " model.fit(X[train], Y[train], epochs=150, batch_size=10, verbose=0)\n",
        " # evaluate the model\n",
        " scores = model.evaluate(X[test], Y[test], verbose=0)\n",
        " print(\"%s: %.2f%%\" % (model.metrics_names[1], scores[1]*100))\n",
        " cvscores.append(scores[1] * 100)\n",
        " \n",
        "print(\"%.2f%% (+/- %.2f%%)\" % (np.mean(cvscores), np.std(cvscores)))\n",
        "\n",
        "\n"
      ],
      "metadata": {
        "id": "A_CeRUQNzy4O"
      },
      "execution_count": null,
      "outputs": []
    },
    {
      "cell_type": "code",
      "source": [
        "range(0)"
      ],
      "metadata": {
        "colab": {
          "base_uri": "https://localhost:8080/"
        },
        "id": "y0ogPnuF4fHB",
        "outputId": "862e8ca0-80d2-4f10-fa31-8124e1fb05c4"
      },
      "execution_count": 172,
      "outputs": [
        {
          "output_type": "execute_result",
          "data": {
            "text/plain": [
              "range(0, 0)"
            ]
          },
          "metadata": {},
          "execution_count": 172
        }
      ]
    },
    {
      "cell_type": "code",
      "source": [
        "for k  in range(0) :\n",
        "  prinnt(k)"
      ],
      "metadata": {
        "id": "orYud5LI4f4u"
      },
      "execution_count": 173,
      "outputs": []
    },
    {
      "cell_type": "code",
      "source": [],
      "metadata": {
        "id": "3VxMn3qX4if4"
      },
      "execution_count": null,
      "outputs": []
    }
  ]
}