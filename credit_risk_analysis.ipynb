{
  "nbformat": 4,
  "nbformat_minor": 0,
  "metadata": {
    "colab": {
      "provenance": [],
      "authorship_tag": "ABX9TyPdMAO7eUuc1cE8PyeyZvHs",
      "include_colab_link": true
    },
    "kernelspec": {
      "name": "python3",
      "display_name": "Python 3"
    },
    "language_info": {
      "name": "python"
    },
    "accelerator": "GPU",
    "gpuClass": "standard"
  },
  "cells": [
    {
      "cell_type": "markdown",
      "metadata": {
        "id": "view-in-github",
        "colab_type": "text"
      },
      "source": [
        "<a href=\"https://colab.research.google.com/github/sreent/deep-learning/blob/main/credit_risk_analysis.ipynb\" target=\"_parent\"><img src=\"https://colab.research.google.com/assets/colab-badge.svg\" alt=\"Open In Colab\"/></a>"
      ]
    },
    {
      "cell_type": "code",
      "execution_count": 1,
      "metadata": {
        "id": "i4S0tiStcOxV"
      },
      "outputs": [],
      "source": [
        "import pandas as pd\n",
        "import numpy as np\n",
        "\n",
        "from sklearn.preprocessing import OneHotEncoder, StandardScaler\n",
        "from sklearn.compose import ColumnTransformer\n",
        "from sklearn.model_selection import train_test_split\n",
        "\n",
        "from sklearn.linear_model import LogisticRegression\n",
        "from sklearn.metrics import roc_auc_score, accuracy_score\n",
        "from sklearn.model_selection import StratifiedKFold\n",
        "\n",
        "import tensorflow as tf\n",
        "from keras.models import Sequential\n",
        "from keras.layers import Dense, Dropout\n",
        "from keras.callbacks import EarlyStopping, ModelCheckpoint\n",
        "\n",
        "import itertools\n",
        "import copy\n",
        "\n",
        "import matplotlib.pyplot as plt\n",
        "\n",
        "SEED = 204"
      ]
    },
    {
      "cell_type": "markdown",
      "source": [
        "## Problem Definition and Assembling Dataset"
      ],
      "metadata": {
        "id": "rMENi1KPmc5i"
      }
    },
    {
      "cell_type": "code",
      "source": [
        "FILE_PATH = 'http://archive.ics.uci.edu/ml/machine-learning-databases/statlog/german/german.data'\n",
        "\n",
        "HEADERS = ['Status of existing checking account', 'Duration in month', 'Credit history',\n",
        "           'Purpose','Credit amount', 'Savings account/bonds', 'Present employment since',\n",
        "           'Installment rate in percentage of disposable income', 'Personal status and sex',\n",
        "           'Other debtors / guarantors', 'Present residence since', 'Property', 'Age in years',\n",
        "           'Other installment plans', 'Housing', 'Number of existing credits at this bank',\n",
        "           'Job', 'Number of people being liable to provide maintenance for', 'Telephone', 'Foreign worker', \n",
        "           'Cost Matrix(Risk)']\n",
        "\n",
        "TARGET_VARIABLE = 'Cost Matrix(Risk)'"
      ],
      "metadata": {
        "id": "0CRLFUaICaJS"
      },
      "execution_count": 2,
      "outputs": []
    },
    {
      "cell_type": "code",
      "source": [
        "NUMERICAL_VARIABLES = ['Duration in month', 'Credit amount', 'Installment rate in percentage of disposable income',\n",
        "                     'Present residence since', 'Age in years', 'Number of existing credits at this bank', \n",
        "                     'Number of people being liable to provide maintenance for']\n",
        "                     \n",
        "CATEGORICAL_VARIABLES = {\n",
        "    'Status of existing checking account': {\n",
        "        'A14': 'no checking account', 'A11': '<0 DM', 'A12': '0 <= <200 DM', \n",
        "        'A13': '>= 200 DM'\n",
        "    },\n",
        "    \n",
        "    'Credit history': {\n",
        "        'A34': 'critical account', 'A33': 'delay in paying off',\n",
        "        'A32': 'existing credits paid back duly till now',\n",
        "        'A31': 'all credits at this bank paid back duly',\n",
        "        'A30': 'no credits taken'\n",
        "    },\n",
        "                 \n",
        "    'Purpose': {\n",
        "        'A40': 'car (new)', 'A41': 'car (used)', 'A42': 'furniture/equipment', \n",
        "        'A43': 'radio/television', 'A44': 'domestic appliances', 'A45': 'repairs', \n",
        "        'A46': 'education', 'A47' : 'vacation', 'A48': 'retraining', 'A49': 'business',\n",
        "        'A410': 'others'\n",
        "    },\n",
        "\n",
        "    'Savings account/bonds': {\n",
        "        'A65': 'no savings account', 'A61': '<100 DM',\n",
        "        'A62': '100 <= <500 DM', 'A63': '500 <= < 1000 DM', 'A64': '>= 1000 DM'\n",
        "    },\n",
        "\n",
        "    'Present employment since': {\n",
        "        'A75': '>=7 years', 'A74': '4<= <7 years',  'A73': '1<= < 4 years', \n",
        "        'A72': '<1 years', 'A71': 'unemployed'\n",
        "    },\n",
        "\n",
        "    'Personal status and sex': {\n",
        "        'A95': 'female:single', 'A94': 'male:married/widowed', 'A93': 'male:single', \n",
        "        'A92': 'female:divorced/separated/married', 'A91': 'male:divorced/separated'\n",
        "    },\n",
        "\n",
        "    'Other debtors / guarantors': {\n",
        "        'A101': 'none', 'A102': 'co-applicant', 'A103': 'guarantor'\n",
        "    },\n",
        "\n",
        "    'Property': {\n",
        "        'A121': 'real estate', 'A122': 'savings agreement/life insurance', \n",
        "        'A123': 'car or other', 'A124': 'unknown / no property'\n",
        "    },\n",
        "\n",
        "    'Other installment plans': {\n",
        "        'A143': 'none', 'A142': 'store', 'A141': 'bank'\n",
        "    },\n",
        "    \n",
        "    'Housing': {\n",
        "        'A153': 'for free', 'A152': 'own', 'A151': 'rent'\n",
        "    },\n",
        "\n",
        "    'Job': {\n",
        "        'A174': 'management/ highly qualified employee', \n",
        "        'A173': 'skilled employee / official', 'A172': 'unskilled - resident', \n",
        "        'A171': 'unemployed/ unskilled  - non-resident'\n",
        "    },\n",
        "    \n",
        "    'Telephone': {\n",
        "        'A192': 'yes', 'A191': 'none'\n",
        "    },\n",
        "\n",
        "    'Foreign worker': {\n",
        "        'A201': 'yes', 'A202': 'no'\n",
        "    }\n",
        "}"
      ],
      "metadata": {
        "id": "5JFONh8RCjBd"
      },
      "execution_count": 3,
      "outputs": []
    },
    {
      "cell_type": "code",
      "source": [
        "# Load loan data from URL using pandas read_csv method\n",
        "df = pd.read_csv(FILE_PATH, sep=\" \", header=None)\n",
        "\n",
        "# The data file is headless, i.e. without column names. Hence, we've to assign the column names to our data frame. \n",
        "df.columns = HEADERS\n",
        "\n",
        "# Preview data to check if the column names are assigned properly and also the columns' variable types\n",
        "df.head()"
      ],
      "metadata": {
        "colab": {
          "base_uri": "https://localhost:8080/",
          "height": 404
        },
        "id": "K6PNh6boobfd",
        "outputId": "509806c8-f6bb-49e9-b87a-1b852510bd88"
      },
      "execution_count": 4,
      "outputs": [
        {
          "output_type": "execute_result",
          "data": {
            "text/plain": [
              "  Status of existing checking account  Duration in month Credit history  \\\n",
              "0                                 A11                  6            A34   \n",
              "1                                 A12                 48            A32   \n",
              "2                                 A14                 12            A34   \n",
              "3                                 A11                 42            A32   \n",
              "4                                 A11                 24            A33   \n",
              "\n",
              "  Purpose  Credit amount Savings account/bonds Present employment since  \\\n",
              "0     A43           1169                   A65                      A75   \n",
              "1     A43           5951                   A61                      A73   \n",
              "2     A46           2096                   A61                      A74   \n",
              "3     A42           7882                   A61                      A74   \n",
              "4     A40           4870                   A61                      A73   \n",
              "\n",
              "   Installment rate in percentage of disposable income  \\\n",
              "0                                                  4     \n",
              "1                                                  2     \n",
              "2                                                  2     \n",
              "3                                                  2     \n",
              "4                                                  3     \n",
              "\n",
              "  Personal status and sex Other debtors / guarantors  ...  Property  \\\n",
              "0                     A93                       A101  ...      A121   \n",
              "1                     A92                       A101  ...      A121   \n",
              "2                     A93                       A101  ...      A121   \n",
              "3                     A93                       A103  ...      A122   \n",
              "4                     A93                       A101  ...      A124   \n",
              "\n",
              "  Age in years  Other installment plans Housing  \\\n",
              "0           67                     A143    A152   \n",
              "1           22                     A143    A152   \n",
              "2           49                     A143    A152   \n",
              "3           45                     A143    A153   \n",
              "4           53                     A143    A153   \n",
              "\n",
              "  Number of existing credits at this bank   Job  \\\n",
              "0                                       2  A173   \n",
              "1                                       1  A173   \n",
              "2                                       1  A172   \n",
              "3                                       1  A173   \n",
              "4                                       2  A173   \n",
              "\n",
              "  Number of people being liable to provide maintenance for  Telephone  \\\n",
              "0                                                  1             A192   \n",
              "1                                                  1             A191   \n",
              "2                                                  2             A191   \n",
              "3                                                  2             A191   \n",
              "4                                                  2             A191   \n",
              "\n",
              "  Foreign worker Cost Matrix(Risk)  \n",
              "0           A201                 1  \n",
              "1           A201                 2  \n",
              "2           A201                 1  \n",
              "3           A201                 1  \n",
              "4           A201                 2  \n",
              "\n",
              "[5 rows x 21 columns]"
            ],
            "text/html": [
              "\n",
              "  <div id=\"df-74e40047-14db-4352-b82f-53f54514c14f\">\n",
              "    <div class=\"colab-df-container\">\n",
              "      <div>\n",
              "<style scoped>\n",
              "    .dataframe tbody tr th:only-of-type {\n",
              "        vertical-align: middle;\n",
              "    }\n",
              "\n",
              "    .dataframe tbody tr th {\n",
              "        vertical-align: top;\n",
              "    }\n",
              "\n",
              "    .dataframe thead th {\n",
              "        text-align: right;\n",
              "    }\n",
              "</style>\n",
              "<table border=\"1\" class=\"dataframe\">\n",
              "  <thead>\n",
              "    <tr style=\"text-align: right;\">\n",
              "      <th></th>\n",
              "      <th>Status of existing checking account</th>\n",
              "      <th>Duration in month</th>\n",
              "      <th>Credit history</th>\n",
              "      <th>Purpose</th>\n",
              "      <th>Credit amount</th>\n",
              "      <th>Savings account/bonds</th>\n",
              "      <th>Present employment since</th>\n",
              "      <th>Installment rate in percentage of disposable income</th>\n",
              "      <th>Personal status and sex</th>\n",
              "      <th>Other debtors / guarantors</th>\n",
              "      <th>...</th>\n",
              "      <th>Property</th>\n",
              "      <th>Age in years</th>\n",
              "      <th>Other installment plans</th>\n",
              "      <th>Housing</th>\n",
              "      <th>Number of existing credits at this bank</th>\n",
              "      <th>Job</th>\n",
              "      <th>Number of people being liable to provide maintenance for</th>\n",
              "      <th>Telephone</th>\n",
              "      <th>Foreign worker</th>\n",
              "      <th>Cost Matrix(Risk)</th>\n",
              "    </tr>\n",
              "  </thead>\n",
              "  <tbody>\n",
              "    <tr>\n",
              "      <th>0</th>\n",
              "      <td>A11</td>\n",
              "      <td>6</td>\n",
              "      <td>A34</td>\n",
              "      <td>A43</td>\n",
              "      <td>1169</td>\n",
              "      <td>A65</td>\n",
              "      <td>A75</td>\n",
              "      <td>4</td>\n",
              "      <td>A93</td>\n",
              "      <td>A101</td>\n",
              "      <td>...</td>\n",
              "      <td>A121</td>\n",
              "      <td>67</td>\n",
              "      <td>A143</td>\n",
              "      <td>A152</td>\n",
              "      <td>2</td>\n",
              "      <td>A173</td>\n",
              "      <td>1</td>\n",
              "      <td>A192</td>\n",
              "      <td>A201</td>\n",
              "      <td>1</td>\n",
              "    </tr>\n",
              "    <tr>\n",
              "      <th>1</th>\n",
              "      <td>A12</td>\n",
              "      <td>48</td>\n",
              "      <td>A32</td>\n",
              "      <td>A43</td>\n",
              "      <td>5951</td>\n",
              "      <td>A61</td>\n",
              "      <td>A73</td>\n",
              "      <td>2</td>\n",
              "      <td>A92</td>\n",
              "      <td>A101</td>\n",
              "      <td>...</td>\n",
              "      <td>A121</td>\n",
              "      <td>22</td>\n",
              "      <td>A143</td>\n",
              "      <td>A152</td>\n",
              "      <td>1</td>\n",
              "      <td>A173</td>\n",
              "      <td>1</td>\n",
              "      <td>A191</td>\n",
              "      <td>A201</td>\n",
              "      <td>2</td>\n",
              "    </tr>\n",
              "    <tr>\n",
              "      <th>2</th>\n",
              "      <td>A14</td>\n",
              "      <td>12</td>\n",
              "      <td>A34</td>\n",
              "      <td>A46</td>\n",
              "      <td>2096</td>\n",
              "      <td>A61</td>\n",
              "      <td>A74</td>\n",
              "      <td>2</td>\n",
              "      <td>A93</td>\n",
              "      <td>A101</td>\n",
              "      <td>...</td>\n",
              "      <td>A121</td>\n",
              "      <td>49</td>\n",
              "      <td>A143</td>\n",
              "      <td>A152</td>\n",
              "      <td>1</td>\n",
              "      <td>A172</td>\n",
              "      <td>2</td>\n",
              "      <td>A191</td>\n",
              "      <td>A201</td>\n",
              "      <td>1</td>\n",
              "    </tr>\n",
              "    <tr>\n",
              "      <th>3</th>\n",
              "      <td>A11</td>\n",
              "      <td>42</td>\n",
              "      <td>A32</td>\n",
              "      <td>A42</td>\n",
              "      <td>7882</td>\n",
              "      <td>A61</td>\n",
              "      <td>A74</td>\n",
              "      <td>2</td>\n",
              "      <td>A93</td>\n",
              "      <td>A103</td>\n",
              "      <td>...</td>\n",
              "      <td>A122</td>\n",
              "      <td>45</td>\n",
              "      <td>A143</td>\n",
              "      <td>A153</td>\n",
              "      <td>1</td>\n",
              "      <td>A173</td>\n",
              "      <td>2</td>\n",
              "      <td>A191</td>\n",
              "      <td>A201</td>\n",
              "      <td>1</td>\n",
              "    </tr>\n",
              "    <tr>\n",
              "      <th>4</th>\n",
              "      <td>A11</td>\n",
              "      <td>24</td>\n",
              "      <td>A33</td>\n",
              "      <td>A40</td>\n",
              "      <td>4870</td>\n",
              "      <td>A61</td>\n",
              "      <td>A73</td>\n",
              "      <td>3</td>\n",
              "      <td>A93</td>\n",
              "      <td>A101</td>\n",
              "      <td>...</td>\n",
              "      <td>A124</td>\n",
              "      <td>53</td>\n",
              "      <td>A143</td>\n",
              "      <td>A153</td>\n",
              "      <td>2</td>\n",
              "      <td>A173</td>\n",
              "      <td>2</td>\n",
              "      <td>A191</td>\n",
              "      <td>A201</td>\n",
              "      <td>2</td>\n",
              "    </tr>\n",
              "  </tbody>\n",
              "</table>\n",
              "<p>5 rows × 21 columns</p>\n",
              "</div>\n",
              "      <button class=\"colab-df-convert\" onclick=\"convertToInteractive('df-74e40047-14db-4352-b82f-53f54514c14f')\"\n",
              "              title=\"Convert this dataframe to an interactive table.\"\n",
              "              style=\"display:none;\">\n",
              "        \n",
              "  <svg xmlns=\"http://www.w3.org/2000/svg\" height=\"24px\"viewBox=\"0 0 24 24\"\n",
              "       width=\"24px\">\n",
              "    <path d=\"M0 0h24v24H0V0z\" fill=\"none\"/>\n",
              "    <path d=\"M18.56 5.44l.94 2.06.94-2.06 2.06-.94-2.06-.94-.94-2.06-.94 2.06-2.06.94zm-11 1L8.5 8.5l.94-2.06 2.06-.94-2.06-.94L8.5 2.5l-.94 2.06-2.06.94zm10 10l.94 2.06.94-2.06 2.06-.94-2.06-.94-.94-2.06-.94 2.06-2.06.94z\"/><path d=\"M17.41 7.96l-1.37-1.37c-.4-.4-.92-.59-1.43-.59-.52 0-1.04.2-1.43.59L10.3 9.45l-7.72 7.72c-.78.78-.78 2.05 0 2.83L4 21.41c.39.39.9.59 1.41.59.51 0 1.02-.2 1.41-.59l7.78-7.78 2.81-2.81c.8-.78.8-2.07 0-2.86zM5.41 20L4 18.59l7.72-7.72 1.47 1.35L5.41 20z\"/>\n",
              "  </svg>\n",
              "      </button>\n",
              "      \n",
              "  <style>\n",
              "    .colab-df-container {\n",
              "      display:flex;\n",
              "      flex-wrap:wrap;\n",
              "      gap: 12px;\n",
              "    }\n",
              "\n",
              "    .colab-df-convert {\n",
              "      background-color: #E8F0FE;\n",
              "      border: none;\n",
              "      border-radius: 50%;\n",
              "      cursor: pointer;\n",
              "      display: none;\n",
              "      fill: #1967D2;\n",
              "      height: 32px;\n",
              "      padding: 0 0 0 0;\n",
              "      width: 32px;\n",
              "    }\n",
              "\n",
              "    .colab-df-convert:hover {\n",
              "      background-color: #E2EBFA;\n",
              "      box-shadow: 0px 1px 2px rgba(60, 64, 67, 0.3), 0px 1px 3px 1px rgba(60, 64, 67, 0.15);\n",
              "      fill: #174EA6;\n",
              "    }\n",
              "\n",
              "    [theme=dark] .colab-df-convert {\n",
              "      background-color: #3B4455;\n",
              "      fill: #D2E3FC;\n",
              "    }\n",
              "\n",
              "    [theme=dark] .colab-df-convert:hover {\n",
              "      background-color: #434B5C;\n",
              "      box-shadow: 0px 1px 3px 1px rgba(0, 0, 0, 0.15);\n",
              "      filter: drop-shadow(0px 1px 2px rgba(0, 0, 0, 0.3));\n",
              "      fill: #FFFFFF;\n",
              "    }\n",
              "  </style>\n",
              "\n",
              "      <script>\n",
              "        const buttonEl =\n",
              "          document.querySelector('#df-74e40047-14db-4352-b82f-53f54514c14f button.colab-df-convert');\n",
              "        buttonEl.style.display =\n",
              "          google.colab.kernel.accessAllowed ? 'block' : 'none';\n",
              "\n",
              "        async function convertToInteractive(key) {\n",
              "          const element = document.querySelector('#df-74e40047-14db-4352-b82f-53f54514c14f');\n",
              "          const dataTable =\n",
              "            await google.colab.kernel.invokeFunction('convertToInteractive',\n",
              "                                                     [key], {});\n",
              "          if (!dataTable) return;\n",
              "\n",
              "          const docLinkHtml = 'Like what you see? Visit the ' +\n",
              "            '<a target=\"_blank\" href=https://colab.research.google.com/notebooks/data_table.ipynb>data table notebook</a>'\n",
              "            + ' to learn more about interactive tables.';\n",
              "          element.innerHTML = '';\n",
              "          dataTable['output_type'] = 'display_data';\n",
              "          await google.colab.output.renderOutput(dataTable, element);\n",
              "          const docLink = document.createElement('div');\n",
              "          docLink.innerHTML = docLinkHtml;\n",
              "          element.appendChild(docLink);\n",
              "        }\n",
              "      </script>\n",
              "    </div>\n",
              "  </div>\n",
              "  "
            ]
          },
          "metadata": {},
          "execution_count": 4
        }
      ]
    },
    {
      "cell_type": "code",
      "source": [
        "# Target columns\n",
        "target = df[TARGET_VARIABLE]\n",
        "\n",
        "# Reformat entries to be either 0 (not default) and 1 (default), instead of 1 and 2. \n",
        "# This format is preferred in case of binary classificaiton problem.\n",
        "target = target - 1\n",
        "\n",
        "# Preview if \n",
        "print(\"The target column is now re-valued from [1, 2] to\", target.unique(), \".\")"
      ],
      "metadata": {
        "colab": {
          "base_uri": "https://localhost:8080/"
        },
        "id": "WAkLiDG7oft5",
        "outputId": "a5dae7f0-57b6-403d-d6c4-615918e66fc7"
      },
      "execution_count": 5,
      "outputs": [
        {
          "output_type": "stream",
          "name": "stdout",
          "text": [
            "The target column is now re-valued from [1, 2] to [0 1] .\n"
          ]
        }
      ]
    },
    {
      "cell_type": "code",
      "source": [
        "# Feature columns to be used as predictors\n",
        "features = df.drop(columns=[TARGET_VARIABLE])\n",
        "\n",
        "# Replace encoded entries, e.g. Axxx, with their orignal values\n",
        "for column, attributes in CATEGORICAL_VARIABLES.items() :\n",
        "  features[column] = features[column].map(attributes) \n",
        "\n",
        "features.head()"
      ],
      "metadata": {
        "colab": {
          "base_uri": "https://localhost:8080/",
          "height": 652
        },
        "id": "ess032Dwyqgi",
        "outputId": "325dd925-a293-4c6e-cc8c-f87adf3c8386"
      },
      "execution_count": 6,
      "outputs": [
        {
          "output_type": "execute_result",
          "data": {
            "text/plain": [
              "  Status of existing checking account  Duration in month  \\\n",
              "0                               <0 DM                  6   \n",
              "1                        0 <= <200 DM                 48   \n",
              "2                 no checking account                 12   \n",
              "3                               <0 DM                 42   \n",
              "4                               <0 DM                 24   \n",
              "\n",
              "                             Credit history              Purpose  \\\n",
              "0                          critical account     radio/television   \n",
              "1  existing credits paid back duly till now     radio/television   \n",
              "2                          critical account            education   \n",
              "3  existing credits paid back duly till now  furniture/equipment   \n",
              "4                       delay in paying off            car (new)   \n",
              "\n",
              "   Credit amount Savings account/bonds Present employment since  \\\n",
              "0           1169    no savings account                >=7 years   \n",
              "1           5951               <100 DM            1<= < 4 years   \n",
              "2           2096               <100 DM             4<= <7 years   \n",
              "3           7882               <100 DM             4<= <7 years   \n",
              "4           4870               <100 DM            1<= < 4 years   \n",
              "\n",
              "   Installment rate in percentage of disposable income  \\\n",
              "0                                                  4     \n",
              "1                                                  2     \n",
              "2                                                  2     \n",
              "3                                                  2     \n",
              "4                                                  3     \n",
              "\n",
              "             Personal status and sex Other debtors / guarantors  \\\n",
              "0                        male:single                       none   \n",
              "1  female:divorced/separated/married                       none   \n",
              "2                        male:single                       none   \n",
              "3                        male:single                  guarantor   \n",
              "4                        male:single                       none   \n",
              "\n",
              "   Present residence since                          Property  Age in years  \\\n",
              "0                        4                       real estate            67   \n",
              "1                        2                       real estate            22   \n",
              "2                        3                       real estate            49   \n",
              "3                        4  savings agreement/life insurance            45   \n",
              "4                        4             unknown / no property            53   \n",
              "\n",
              "  Other installment plans   Housing  Number of existing credits at this bank  \\\n",
              "0                    none       own                                        2   \n",
              "1                    none       own                                        1   \n",
              "2                    none       own                                        1   \n",
              "3                    none  for free                                        1   \n",
              "4                    none  for free                                        2   \n",
              "\n",
              "                           Job  \\\n",
              "0  skilled employee / official   \n",
              "1  skilled employee / official   \n",
              "2         unskilled - resident   \n",
              "3  skilled employee / official   \n",
              "4  skilled employee / official   \n",
              "\n",
              "   Number of people being liable to provide maintenance for Telephone  \\\n",
              "0                                                  1              yes   \n",
              "1                                                  1             none   \n",
              "2                                                  2             none   \n",
              "3                                                  2             none   \n",
              "4                                                  2             none   \n",
              "\n",
              "  Foreign worker  \n",
              "0            yes  \n",
              "1            yes  \n",
              "2            yes  \n",
              "3            yes  \n",
              "4            yes  "
            ],
            "text/html": [
              "\n",
              "  <div id=\"df-5093955e-c56d-4fc1-b95b-3dc47ba216e9\">\n",
              "    <div class=\"colab-df-container\">\n",
              "      <div>\n",
              "<style scoped>\n",
              "    .dataframe tbody tr th:only-of-type {\n",
              "        vertical-align: middle;\n",
              "    }\n",
              "\n",
              "    .dataframe tbody tr th {\n",
              "        vertical-align: top;\n",
              "    }\n",
              "\n",
              "    .dataframe thead th {\n",
              "        text-align: right;\n",
              "    }\n",
              "</style>\n",
              "<table border=\"1\" class=\"dataframe\">\n",
              "  <thead>\n",
              "    <tr style=\"text-align: right;\">\n",
              "      <th></th>\n",
              "      <th>Status of existing checking account</th>\n",
              "      <th>Duration in month</th>\n",
              "      <th>Credit history</th>\n",
              "      <th>Purpose</th>\n",
              "      <th>Credit amount</th>\n",
              "      <th>Savings account/bonds</th>\n",
              "      <th>Present employment since</th>\n",
              "      <th>Installment rate in percentage of disposable income</th>\n",
              "      <th>Personal status and sex</th>\n",
              "      <th>Other debtors / guarantors</th>\n",
              "      <th>Present residence since</th>\n",
              "      <th>Property</th>\n",
              "      <th>Age in years</th>\n",
              "      <th>Other installment plans</th>\n",
              "      <th>Housing</th>\n",
              "      <th>Number of existing credits at this bank</th>\n",
              "      <th>Job</th>\n",
              "      <th>Number of people being liable to provide maintenance for</th>\n",
              "      <th>Telephone</th>\n",
              "      <th>Foreign worker</th>\n",
              "    </tr>\n",
              "  </thead>\n",
              "  <tbody>\n",
              "    <tr>\n",
              "      <th>0</th>\n",
              "      <td>&lt;0 DM</td>\n",
              "      <td>6</td>\n",
              "      <td>critical account</td>\n",
              "      <td>radio/television</td>\n",
              "      <td>1169</td>\n",
              "      <td>no savings account</td>\n",
              "      <td>&gt;=7 years</td>\n",
              "      <td>4</td>\n",
              "      <td>male:single</td>\n",
              "      <td>none</td>\n",
              "      <td>4</td>\n",
              "      <td>real estate</td>\n",
              "      <td>67</td>\n",
              "      <td>none</td>\n",
              "      <td>own</td>\n",
              "      <td>2</td>\n",
              "      <td>skilled employee / official</td>\n",
              "      <td>1</td>\n",
              "      <td>yes</td>\n",
              "      <td>yes</td>\n",
              "    </tr>\n",
              "    <tr>\n",
              "      <th>1</th>\n",
              "      <td>0 &lt;= &lt;200 DM</td>\n",
              "      <td>48</td>\n",
              "      <td>existing credits paid back duly till now</td>\n",
              "      <td>radio/television</td>\n",
              "      <td>5951</td>\n",
              "      <td>&lt;100 DM</td>\n",
              "      <td>1&lt;= &lt; 4 years</td>\n",
              "      <td>2</td>\n",
              "      <td>female:divorced/separated/married</td>\n",
              "      <td>none</td>\n",
              "      <td>2</td>\n",
              "      <td>real estate</td>\n",
              "      <td>22</td>\n",
              "      <td>none</td>\n",
              "      <td>own</td>\n",
              "      <td>1</td>\n",
              "      <td>skilled employee / official</td>\n",
              "      <td>1</td>\n",
              "      <td>none</td>\n",
              "      <td>yes</td>\n",
              "    </tr>\n",
              "    <tr>\n",
              "      <th>2</th>\n",
              "      <td>no checking account</td>\n",
              "      <td>12</td>\n",
              "      <td>critical account</td>\n",
              "      <td>education</td>\n",
              "      <td>2096</td>\n",
              "      <td>&lt;100 DM</td>\n",
              "      <td>4&lt;= &lt;7 years</td>\n",
              "      <td>2</td>\n",
              "      <td>male:single</td>\n",
              "      <td>none</td>\n",
              "      <td>3</td>\n",
              "      <td>real estate</td>\n",
              "      <td>49</td>\n",
              "      <td>none</td>\n",
              "      <td>own</td>\n",
              "      <td>1</td>\n",
              "      <td>unskilled - resident</td>\n",
              "      <td>2</td>\n",
              "      <td>none</td>\n",
              "      <td>yes</td>\n",
              "    </tr>\n",
              "    <tr>\n",
              "      <th>3</th>\n",
              "      <td>&lt;0 DM</td>\n",
              "      <td>42</td>\n",
              "      <td>existing credits paid back duly till now</td>\n",
              "      <td>furniture/equipment</td>\n",
              "      <td>7882</td>\n",
              "      <td>&lt;100 DM</td>\n",
              "      <td>4&lt;= &lt;7 years</td>\n",
              "      <td>2</td>\n",
              "      <td>male:single</td>\n",
              "      <td>guarantor</td>\n",
              "      <td>4</td>\n",
              "      <td>savings agreement/life insurance</td>\n",
              "      <td>45</td>\n",
              "      <td>none</td>\n",
              "      <td>for free</td>\n",
              "      <td>1</td>\n",
              "      <td>skilled employee / official</td>\n",
              "      <td>2</td>\n",
              "      <td>none</td>\n",
              "      <td>yes</td>\n",
              "    </tr>\n",
              "    <tr>\n",
              "      <th>4</th>\n",
              "      <td>&lt;0 DM</td>\n",
              "      <td>24</td>\n",
              "      <td>delay in paying off</td>\n",
              "      <td>car (new)</td>\n",
              "      <td>4870</td>\n",
              "      <td>&lt;100 DM</td>\n",
              "      <td>1&lt;= &lt; 4 years</td>\n",
              "      <td>3</td>\n",
              "      <td>male:single</td>\n",
              "      <td>none</td>\n",
              "      <td>4</td>\n",
              "      <td>unknown / no property</td>\n",
              "      <td>53</td>\n",
              "      <td>none</td>\n",
              "      <td>for free</td>\n",
              "      <td>2</td>\n",
              "      <td>skilled employee / official</td>\n",
              "      <td>2</td>\n",
              "      <td>none</td>\n",
              "      <td>yes</td>\n",
              "    </tr>\n",
              "  </tbody>\n",
              "</table>\n",
              "</div>\n",
              "      <button class=\"colab-df-convert\" onclick=\"convertToInteractive('df-5093955e-c56d-4fc1-b95b-3dc47ba216e9')\"\n",
              "              title=\"Convert this dataframe to an interactive table.\"\n",
              "              style=\"display:none;\">\n",
              "        \n",
              "  <svg xmlns=\"http://www.w3.org/2000/svg\" height=\"24px\"viewBox=\"0 0 24 24\"\n",
              "       width=\"24px\">\n",
              "    <path d=\"M0 0h24v24H0V0z\" fill=\"none\"/>\n",
              "    <path d=\"M18.56 5.44l.94 2.06.94-2.06 2.06-.94-2.06-.94-.94-2.06-.94 2.06-2.06.94zm-11 1L8.5 8.5l.94-2.06 2.06-.94-2.06-.94L8.5 2.5l-.94 2.06-2.06.94zm10 10l.94 2.06.94-2.06 2.06-.94-2.06-.94-.94-2.06-.94 2.06-2.06.94z\"/><path d=\"M17.41 7.96l-1.37-1.37c-.4-.4-.92-.59-1.43-.59-.52 0-1.04.2-1.43.59L10.3 9.45l-7.72 7.72c-.78.78-.78 2.05 0 2.83L4 21.41c.39.39.9.59 1.41.59.51 0 1.02-.2 1.41-.59l7.78-7.78 2.81-2.81c.8-.78.8-2.07 0-2.86zM5.41 20L4 18.59l7.72-7.72 1.47 1.35L5.41 20z\"/>\n",
              "  </svg>\n",
              "      </button>\n",
              "      \n",
              "  <style>\n",
              "    .colab-df-container {\n",
              "      display:flex;\n",
              "      flex-wrap:wrap;\n",
              "      gap: 12px;\n",
              "    }\n",
              "\n",
              "    .colab-df-convert {\n",
              "      background-color: #E8F0FE;\n",
              "      border: none;\n",
              "      border-radius: 50%;\n",
              "      cursor: pointer;\n",
              "      display: none;\n",
              "      fill: #1967D2;\n",
              "      height: 32px;\n",
              "      padding: 0 0 0 0;\n",
              "      width: 32px;\n",
              "    }\n",
              "\n",
              "    .colab-df-convert:hover {\n",
              "      background-color: #E2EBFA;\n",
              "      box-shadow: 0px 1px 2px rgba(60, 64, 67, 0.3), 0px 1px 3px 1px rgba(60, 64, 67, 0.15);\n",
              "      fill: #174EA6;\n",
              "    }\n",
              "\n",
              "    [theme=dark] .colab-df-convert {\n",
              "      background-color: #3B4455;\n",
              "      fill: #D2E3FC;\n",
              "    }\n",
              "\n",
              "    [theme=dark] .colab-df-convert:hover {\n",
              "      background-color: #434B5C;\n",
              "      box-shadow: 0px 1px 3px 1px rgba(0, 0, 0, 0.15);\n",
              "      filter: drop-shadow(0px 1px 2px rgba(0, 0, 0, 0.3));\n",
              "      fill: #FFFFFF;\n",
              "    }\n",
              "  </style>\n",
              "\n",
              "      <script>\n",
              "        const buttonEl =\n",
              "          document.querySelector('#df-5093955e-c56d-4fc1-b95b-3dc47ba216e9 button.colab-df-convert');\n",
              "        buttonEl.style.display =\n",
              "          google.colab.kernel.accessAllowed ? 'block' : 'none';\n",
              "\n",
              "        async function convertToInteractive(key) {\n",
              "          const element = document.querySelector('#df-5093955e-c56d-4fc1-b95b-3dc47ba216e9');\n",
              "          const dataTable =\n",
              "            await google.colab.kernel.invokeFunction('convertToInteractive',\n",
              "                                                     [key], {});\n",
              "          if (!dataTable) return;\n",
              "\n",
              "          const docLinkHtml = 'Like what you see? Visit the ' +\n",
              "            '<a target=\"_blank\" href=https://colab.research.google.com/notebooks/data_table.ipynb>data table notebook</a>'\n",
              "            + ' to learn more about interactive tables.';\n",
              "          element.innerHTML = '';\n",
              "          dataTable['output_type'] = 'display_data';\n",
              "          await google.colab.output.renderOutput(dataTable, element);\n",
              "          const docLink = document.createElement('div');\n",
              "          docLink.innerHTML = docLinkHtml;\n",
              "          element.appendChild(docLink);\n",
              "        }\n",
              "      </script>\n",
              "    </div>\n",
              "  </div>\n",
              "  "
            ]
          },
          "metadata": {},
          "execution_count": 6
        }
      ]
    },
    {
      "cell_type": "markdown",
      "source": [],
      "metadata": {
        "id": "WB_6CiOGm59k"
      }
    },
    {
      "cell_type": "markdown",
      "source": [
        "## Evaluation Protocol"
      ],
      "metadata": {
        "id": "cMedzdI1m7-K"
      }
    },
    {
      "cell_type": "code",
      "source": [],
      "metadata": {
        "id": "MmkQkGyBnDhB"
      },
      "execution_count": 6,
      "outputs": []
    },
    {
      "cell_type": "markdown",
      "source": [
        "## Data Preparation"
      ],
      "metadata": {
        "id": "0VAt2BBanCx1"
      }
    },
    {
      "cell_type": "code",
      "source": [
        "DATA_POINTS = len(target)\n",
        "TEST_SIZE = 0.1\n",
        "\n",
        "X_train, X_test, y_train, y_test = train_test_split(features, target, test_size=TEST_SIZE, random_state=42, shuffle=True, stratify=target.values)"
      ],
      "metadata": {
        "id": "ZU-qas5qOUdz"
      },
      "execution_count": 148,
      "outputs": []
    },
    {
      "cell_type": "code",
      "source": [
        "preprocessor = ColumnTransformer([\n",
        "    ('one-hot-encoder', OneHotEncoder(handle_unknown=\"ignore\"), list(CATEGORICAL_VARIABLES.keys())),\n",
        "    ('standard_scaler', StandardScaler(), NUMERICAL_VARIABLES)])\n",
        "\n",
        "_ = preprocessor.fit(X_train)"
      ],
      "metadata": {
        "id": "s637nBSN5kcI"
      },
      "execution_count": 149,
      "outputs": []
    },
    {
      "cell_type": "code",
      "source": [
        "X_train, X_test = preprocessor.transform(X_train), preprocessor.transform(X_test)\n",
        "\n",
        "y_train, y_test = y_train.values, y_test.values"
      ],
      "metadata": {
        "id": "-GUPy41G5qFU"
      },
      "execution_count": 150,
      "outputs": []
    },
    {
      "cell_type": "code",
      "source": [
        "CLASS_WEIGHT = {0: sum(y_train)/len(y_train), 1: 1.0-sum(y_train)/len(y_train)}\n",
        "\n",
        "print('Class Weight:', CLASS_WEIGHT)"
      ],
      "metadata": {
        "colab": {
          "base_uri": "https://localhost:8080/"
        },
        "id": "8IMj6wufiS7U",
        "outputId": "e4045618-8342-45f3-8074-777e40993951"
      },
      "execution_count": 152,
      "outputs": [
        {
          "output_type": "stream",
          "name": "stdout",
          "text": [
            "Class Weight: {0: 0.3, 1: 0.7}\n"
          ]
        }
      ]
    },
    {
      "cell_type": "markdown",
      "source": [
        "## Developing Model that does better than a baseline"
      ],
      "metadata": {
        "id": "BREY_OZLnOLS"
      }
    },
    {
      "cell_type": "code",
      "source": [
        "print('Imbalanced Class with', {0: 1.0-sum(y_train)/len(y_train), 1: sum(y_train)/len(y_train)})"
      ],
      "metadata": {
        "colab": {
          "base_uri": "https://localhost:8080/"
        },
        "id": "WUMHw1GHEPf4",
        "outputId": "29c3281f-eb73-42a4-9a9a-cdf211966282"
      },
      "execution_count": 181,
      "outputs": [
        {
          "output_type": "stream",
          "name": "stdout",
          "text": [
            "Imbalanced Class with {0: 0.7, 1: 0.3}\n"
          ]
        }
      ]
    },
    {
      "cell_type": "code",
      "source": [
        "print('Naive Baseline Accuracy:', 1.0-sum(y_train)/len(y_train))"
      ],
      "metadata": {
        "colab": {
          "base_uri": "https://localhost:8080/"
        },
        "id": "EVpHXOixEBbX",
        "outputId": "489aee06-30eb-4b91-cacc-043a543a5849"
      },
      "execution_count": 180,
      "outputs": [
        {
          "output_type": "stream",
          "name": "stdout",
          "text": [
            "Naive Baseline Accuracy: 0.7\n"
          ]
        }
      ]
    },
    {
      "cell_type": "code",
      "source": [],
      "metadata": {
        "id": "sBK36wKoEOc6"
      },
      "execution_count": null,
      "outputs": []
    },
    {
      "cell_type": "code",
      "source": [
        "# MLP Model Instatiation\n",
        "def multilayer_perceptron(hidden_layers, neurons, activation, dropout, inputs, outputs,\n",
        "                          optimizer, loss, metric) :\n",
        "  model = Sequential()\n",
        "  for layer in range(hidden_layers) :\n",
        "    model.add(Dense(neurons, \n",
        "                    activation=activation, \n",
        "                    input_shape='default' if layer>1 else (inputs,)))\n",
        "    model.add(Dropout(dropout))\n",
        "\n",
        "  model.add(Dense(outputs, \n",
        "                  activation='sigmoid' if outputs==1 else 'softmax',\n",
        "                  input_shape='default' if hidden_layers>0 else (inputs,)))\n",
        "  \n",
        "  model.compile(optimizer=optimizer, loss=loss, metrics=[metric])\n",
        "\n",
        "  return model"
      ],
      "metadata": {
        "id": "w43uv-80wheq"
      },
      "execution_count": 142,
      "outputs": []
    },
    {
      "cell_type": "code",
      "source": [
        "# Fitting MLP Classification Model\n",
        "def fit_mlp_classifier(model, X, y, class_weight={}, batch_size=32, epochs=100, \n",
        "                       val_data=None, val_size=0.2, callbacks=[], seed=0) :\n",
        "  if val_data is None :\n",
        "    X_train, X_val, y_train, y_val = train_test_split(X, y, test_size=val_size, \n",
        "                                                      random_state=seed, shuffle=True, \n",
        "                                                      stratify=y)\n",
        "  else :\n",
        "    X_train, y_train, X_val, y_val = X, y, val_data[0], val_data[1]\n",
        "  \n",
        "\n",
        "  history = model.fit(X_train, y_train, class_weight=class_weight, \n",
        "                      batch_size=batch_size, epochs=epochs, \n",
        "                      validation_data=(X_val, y_val),\n",
        "                      callbacks=callbacks,\n",
        "                      verbose=0)\n",
        "\n",
        "  return model, model.evaluate(X_val, y_val, verbose=0)[1], history\n",
        "\n"
      ],
      "metadata": {
        "id": "-S2thAQOwoG-"
      },
      "execution_count": 143,
      "outputs": []
    },
    {
      "cell_type": "code",
      "source": [
        "OPTIMIZER = 'rmsprop'\n",
        "LOSS = 'binary_crossentropy'\n",
        "METRIC = tf.keras.metrics.AUC(name='AUC')\n",
        "\n",
        "INPUTS = X_train.shape[1]\n",
        "OUTPUTS = 1\n",
        "\n",
        "model = multilayer_perceptron(hidden_layers=0, neurons=None, activation=None, dropout=None, \n",
        "                              inputs=INPUTS, outputs=OUTPUTS,\n",
        "                              optimizer=OPTIMIZER, loss=LOSS, metric=METRIC)\n",
        "\n",
        "model.summary()"
      ],
      "metadata": {
        "colab": {
          "base_uri": "https://localhost:8080/"
        },
        "id": "tx1oScpgmDAt",
        "outputId": "f8b9d34e-82f2-49e0-c849-f633ef7a2d33"
      },
      "execution_count": 153,
      "outputs": [
        {
          "output_type": "stream",
          "name": "stdout",
          "text": [
            "Model: \"sequential_22\"\n",
            "_________________________________________________________________\n",
            " Layer (type)                Output Shape              Param #   \n",
            "=================================================================\n",
            " dense_45 (Dense)            (None, 1)                 62        \n",
            "                                                                 \n",
            "=================================================================\n",
            "Total params: 62\n",
            "Trainable params: 62\n",
            "Non-trainable params: 0\n",
            "_________________________________________________________________\n"
          ]
        }
      ]
    },
    {
      "cell_type": "code",
      "source": [
        "# Fitting MLP Classification Model\n",
        "def fit_mlp_classifier(model, X, y, class_weight={}, batch_size=32, epochs=100, \n",
        "                       val_data=None, val_size=0.2, callbacks=[], seed=0) :\n",
        "  if val_data is None :\n",
        "    X_train, X_val, y_train, y_val = train_test_split(X, y, test_size=val_size, \n",
        "                                                      random_state=seed, shuffle=True, \n",
        "                                                      stratify=y)\n",
        "  else :\n",
        "    X_train, y_train, X_val, y_val = X, y, val_data[0], val_data[1]\n",
        "  \n",
        "\n",
        "  history = model.fit(X_train, y_train, class_weight=class_weight, \n",
        "                      batch_size=batch_size, epochs=epochs, \n",
        "                      validation_data=(X_val, y_val),\n",
        "                      callbacks=callbacks,\n",
        "                      verbose=0)\n",
        "\n",
        "  return model, model.evaluate(X_val, y_val, verbose=0)[1], history"
      ],
      "metadata": {
        "id": "Cq6BbfY10DaK"
      },
      "execution_count": 145,
      "outputs": []
    },
    {
      "cell_type": "code",
      "source": [
        "SEED = 204\n",
        "\n",
        "# 10% of # number of (all) data points \n",
        "VALIDATION_SIZE = int(TEST_SIZE*DATA_POINTS)\n",
        "\n",
        "X_train, X_val, y_train, y_val = train_test_split(X_train, y_train, test_size=VALIDATION_SIZE, \n",
        "                                                  random_state=SEED, shuffle=True, \n",
        "                                                  stratify=y_train)"
      ],
      "metadata": {
        "id": "X2MNWm1C8EKZ"
      },
      "execution_count": 154,
      "outputs": []
    },
    {
      "cell_type": "code",
      "source": [
        "batch_size = 16\n",
        "EPOCHS = 100\n",
        "\n",
        "\n",
        "MONITOR = 'val_loss'\n",
        "PATIENCE = 10\n",
        "\n",
        "early_stop = EarlyStopping(monitor=MONITOR, restore_best_weights=True, \n",
        "                           patience=PATIENCE, verbose=0)\n",
        "\n",
        "\n",
        "model, score, history = fit_mlp_classifier(model, X_train, y_train, \n",
        "                                           class_weight=CLASS_WEIGHT, \n",
        "                                           batch_size=batch_size, epochs=EPOCHS, \n",
        "                                           val_data=(X_val, y_val), callbacks=[early_stop], seed=0)\n",
        "\n",
        "print('AUC on Validation Dataset:', score)\n",
        "print('Accuracy Score on Validation Dataset:', accuracy_score(y_val, (model.predict(X_val, verbose=0) > 0.5).astype('int32')))"
      ],
      "metadata": {
        "colab": {
          "base_uri": "https://localhost:8080/"
        },
        "id": "aMUdz-_Izj8c",
        "outputId": "88891570-f068-4a60-ebb9-5484d75c0b27"
      },
      "execution_count": 165,
      "outputs": [
        {
          "output_type": "stream",
          "name": "stdout",
          "text": [
            "AUC on Validation Dataset: 0.7811905741691589\n",
            "Accuracy Score: 0.74\n"
          ]
        }
      ]
    },
    {
      "cell_type": "code",
      "source": [
        "def plot_training_history(history, monitors=['loss', 'AUC']) :\n",
        "\n",
        "  # using the variable axs for multiple Axes\n",
        "  fig, axs = plt.subplots(1, 2, sharex='all', figsize=(15,5))\n",
        " \n",
        "  for ax, monitor in zip(axs.flat, monitors) :\n",
        "    loss, val_loss = history.history[monitor], history.history['val_' + monitor]\n",
        "\n",
        "    if monitor == 'loss' :\n",
        "      monitor = monitor.capitalize()\n",
        "\n",
        "    epochs = range(1, len(loss)+1)\n",
        "\n",
        "    ax.plot(epochs, loss, 'b.', label=monitor)\n",
        "    ax.plot(epochs, val_loss, 'r.', label='Validation ' + monitor)\n",
        "    ax.set_xlim([0, len(loss)])\n",
        "    ax.title.set_text('Training and Validation ' + monitor + 's')\n",
        "    ax.set_xlabel('Epochs')\n",
        "    ax.set_ylabel(monitor)\n",
        "    ax.legend()\n",
        "    ax.grid()\n",
        "\n",
        "  _ = plt.show()"
      ],
      "metadata": {
        "id": "dNzQH9Srwt5R"
      },
      "execution_count": 166,
      "outputs": []
    },
    {
      "cell_type": "code",
      "source": [
        "plot_training_history(history, monitors=['loss', 'AUC'])"
      ],
      "metadata": {
        "colab": {
          "base_uri": "https://localhost:8080/",
          "height": 350
        },
        "id": "xT6SBVGW0dEA",
        "outputId": "a700be0e-9cee-4a39-9a6d-08a5d0f0a6cc"
      },
      "execution_count": 167,
      "outputs": [
        {
          "output_type": "display_data",
          "data": {
            "text/plain": [
              "<Figure size 1080x360 with 2 Axes>"
            ],
            "image/png": "[encoded data removed]"
          },
          "metadata": {
            "needs_background": "light"
          }
        }
      ]
    },
    {
      "cell_type": "markdown",
      "source": [
        "## Scaling Up: an Overfitted Model"
      ],
      "metadata": {
        "id": "N4sCP0gBnohA"
      }
    },
    {
      "cell_type": "code",
      "source": [
        "model = multilayer_perceptron(hidden_layers=1, neurons=42, activation='relu', dropout=0.5, \n",
        "                              inputs=61, outputs=1,\n",
        "                              optimizer=OPTIMIZER, loss=LOSS, metric=METRIC)\n",
        "\n",
        "model.summary()"
      ],
      "metadata": {
        "colab": {
          "base_uri": "https://localhost:8080/"
        },
        "id": "k8ERBdSU1aQa",
        "outputId": "b10e105d-9ca7-45d4-af6f-5b4497b20458"
      },
      "execution_count": 168,
      "outputs": [
        {
          "output_type": "stream",
          "name": "stdout",
          "text": [
            "Model: \"sequential_24\"\n",
            "_________________________________________________________________\n",
            " Layer (type)                Output Shape              Param #   \n",
            "=================================================================\n",
            " dense_48 (Dense)            (None, 42)                2604      \n",
            "                                                                 \n",
            " dropout_24 (Dropout)        (None, 42)                0         \n",
            "                                                                 \n",
            " dense_49 (Dense)            (None, 1)                 43        \n",
            "                                                                 \n",
            "=================================================================\n",
            "Total params: 2,647\n",
            "Trainable params: 2,647\n",
            "Non-trainable params: 0\n",
            "_________________________________________________________________\n"
          ]
        }
      ]
    },
    {
      "cell_type": "code",
      "source": [
        "model, score, history = fit_mlp_classifier(model, X_train, y_train, \n",
        "                                           class_weight=CLASS_WEIGHT, \n",
        "                                           batch_size=batch_size, epochs=EPOCHS, \n",
        "                                           val_data=(X_val, y_val), callbacks=[], seed=0)\n",
        "\n",
        "print('AUC on Validation Dataset:', score)\n",
        "print('Accuracy Score on Validation Dataset:', accuracy_score(y_val, (model.predict(X_val, verbose=0) > 0.5).astype('int32')))"
      ],
      "metadata": {
        "colab": {
          "base_uri": "https://localhost:8080/"
        },
        "id": "cML4UDZz1pYw",
        "outputId": "b3f6d74a-d11a-4920-e0b3-df0a5fff3db1"
      },
      "execution_count": 169,
      "outputs": [
        {
          "output_type": "stream",
          "name": "stdout",
          "text": [
            "AUC on Validation Dataset: 0.7909523844718933\n",
            "Accuracy Score: 0.76\n"
          ]
        }
      ]
    },
    {
      "cell_type": "code",
      "source": [
        "plot_training_history(history, monitors=['loss', 'AUC'])"
      ],
      "metadata": {
        "colab": {
          "base_uri": "https://localhost:8080/",
          "height": 350
        },
        "id": "zLfr2lWV14Nh",
        "outputId": "1e4fe50e-1358-4fec-ca49-91c234b8b887"
      },
      "execution_count": 170,
      "outputs": [
        {
          "output_type": "display_data",
          "data": {
            "text/plain": [
              "<Figure size 1080x360 with 2 Axes>"
            ],
            "image/png": "[encoded data removed]"
          },
          "metadata": {
            "needs_background": "light"
          }
        }
      ]
    },
    {
      "cell_type": "markdown",
      "source": [
        "## Regularisation and Hyper-Parameter Tuning"
      ],
      "metadata": {
        "id": "zWR0wO2Un3HT"
      }
    },
    {
      "cell_type": "code",
      "source": [
        "# Grid Search CV\n",
        "def grid_search_cv(X, y, class_weight, search_space, cv, \n",
        "                   optimizer, loss, metric, \n",
        "                   epochs, callbacks=[], seed=0) :\n",
        "\n",
        "  keys, values = zip(*search_space.items())\n",
        "\n",
        "  avg_scores = {}\n",
        "  for params in [dict(zip(keys, v)) for v in itertools.product(*values)] :\n",
        "    kfold = StratifiedKFold(n_splits=cv, shuffle=True, random_state=seed)\n",
        "\n",
        "    scores = []\n",
        "    for train, validate in kfold.split(X, y) :\n",
        "      model = multilayer_perceptron(hidden_layers=params['hidden_layers'], \n",
        "                                    neurons=params['neurons'], \n",
        "                                    activation=params['activation'], \n",
        "                                    dropout=params['dropout'], \n",
        "                                    inputs=X.shape[1], outputs=1 if len(y.shape)<2 else y.shape[1],\n",
        "                                    optimizer=optimizer, loss=loss, metric=metric)\n",
        "      \n",
        "      model, score, history = fit_mlp_classifier(model, \n",
        "                                                 X[train,:], y[train], \n",
        "                                                 class_weight=class_weight, \n",
        "                                                 batch_size=params['batch_size'], epochs=epochs, \n",
        "                                                 val_data=(X[validate,:], y[validate]), \n",
        "                                                 callbacks=callbacks, seed=seed) \n",
        "      \n",
        "      scores.append( model.evaluate(X[validate,:], y[validate], verbose=0)[1] )\n",
        "\n",
        "    avg_scores[str(params)] = np.mean(scores)\n",
        "\n",
        "  best_param = min(avg_scores, key=avg_scores.get)\n",
        "\n",
        "  return eval(best_param), avg_scores[best_param]"
      ],
      "metadata": {
        "id": "AoAD29ID8tjv"
      },
      "execution_count": 172,
      "outputs": []
    },
    {
      "cell_type": "code",
      "source": [
        "params = {\n",
        "    'hidden_layers': [1],\n",
        "    'neurons': [42],\n",
        "    'activation': ['relu', 'sigmoid'],\n",
        "    'dropout': [0.5],\n",
        "    'batch_size': [16]\n",
        "}\n",
        "\n",
        "kfolds = 5\n",
        "best_param, best_score = grid_search_cv(X_train, y_train, \n",
        "                                        class_weight=CLASS_WEIGHT, \n",
        "                                        search_space=params, cv=kfolds, \n",
        "                                        optimizer=OPTIMIZER, loss=LOSS, metric=METRIC, \n",
        "                                        epochs=EPOCHS, callbacks=[early_stop], seed=0)\n",
        "\n",
        "print('Best Hyper-Parameters:', best_param)\n",
        "print('Best Cross-Validation Score:', best_score)"
      ],
      "metadata": {
        "colab": {
          "base_uri": "https://localhost:8080/"
        },
        "id": "69Sf7SzWfo_9",
        "outputId": "7948dbdd-568f-4533-c1b1-e02326866bc3"
      },
      "execution_count": 173,
      "outputs": [
        {
          "output_type": "stream",
          "name": "stdout",
          "text": [
            "Best Hyper-Parameters: {'hidden_layers': 1, 'neurons': 42, 'activation': 'relu', 'dropout': 0.5, 'batch_size': 16}\n",
            "Best Cross-Validation Score: 0.7869791746139526\n"
          ]
        }
      ]
    },
    {
      "cell_type": "code",
      "source": [
        "model = multilayer_perceptron(hidden_layers=best_param['hidden_layers'], \n",
        "                              neurons=best_param['neurons'], \n",
        "                              activation=best_param['activation'], \n",
        "                              dropout=best_param['dropout'], \n",
        "                              inputs=INPUTS, outputs=OUTPUTS,\n",
        "                              optimizer=OPTIMIZER, loss=LOSS, metric=METRIC)\n",
        "\n",
        "model.summary()"
      ],
      "metadata": {
        "colab": {
          "base_uri": "https://localhost:8080/"
        },
        "id": "2Ysc_WZzea7m",
        "outputId": "b90974cf-add9-4b43-de44-c8bed6df0cd2"
      },
      "execution_count": 174,
      "outputs": [
        {
          "output_type": "stream",
          "name": "stdout",
          "text": [
            "Model: \"sequential_35\"\n",
            "_________________________________________________________________\n",
            " Layer (type)                Output Shape              Param #   \n",
            "=================================================================\n",
            " dense_70 (Dense)            (None, 42)                2604      \n",
            "                                                                 \n",
            " dropout_35 (Dropout)        (None, 42)                0         \n",
            "                                                                 \n",
            " dense_71 (Dense)            (None, 1)                 43        \n",
            "                                                                 \n",
            "=================================================================\n",
            "Total params: 2,647\n",
            "Trainable params: 2,647\n",
            "Non-trainable params: 0\n",
            "_________________________________________________________________\n"
          ]
        }
      ]
    },
    {
      "cell_type": "code",
      "source": [
        "model, score, history = fit_mlp_classifier(model, X_train, y_train, \n",
        "                                           class_weight=CLASS_WEIGHT, \n",
        "                                           batch_size=batch_size, epochs=EPOCHS, \n",
        "                                           val_data=(X_val, y_val), callbacks=[early_stop], seed=SEED)\n",
        "\n",
        "print('AUC on Validation Dataset:', score)\n",
        "print('Accuracy Score on Validation Dataset:', accuracy_score(y_val, (model.predict(X_val, verbose=0) > 0.5).astype('int32')))"
      ],
      "metadata": {
        "colab": {
          "base_uri": "https://localhost:8080/"
        },
        "id": "NH_M1FyICn6X",
        "outputId": "cbf6f73f-1186-4e74-ec48-074265a5293f"
      },
      "execution_count": 176,
      "outputs": [
        {
          "output_type": "stream",
          "name": "stdout",
          "text": [
            "AUC on Validation Dataset: 0.8230952024459839\n",
            "Accuracy Score on Validation Dataset: 0.76\n"
          ]
        }
      ]
    },
    {
      "cell_type": "code",
      "source": [
        "plot_training_history(history, monitors=['loss', 'AUC'])"
      ],
      "metadata": {
        "colab": {
          "base_uri": "https://localhost:8080/",
          "height": 350
        },
        "id": "R6WHMwnGfVmf",
        "outputId": "bbb09092-2efb-4887-da61-6ad925c8f216"
      },
      "execution_count": 177,
      "outputs": [
        {
          "output_type": "display_data",
          "data": {
            "text/plain": [
              "<Figure size 1080x360 with 2 Axes>"
            ],
            "image/png": "[encoded data removed]"
          },
          "metadata": {
            "needs_background": "light"
          }
        }
      ]
    },
    {
      "cell_type": "code",
      "source": [
        "print('AUC on Test Dataset:', roc_auc_score(y_test, model.predict(X_test, verbose=0)))\n",
        "print('Accuracy Score on Test Dataset:', accuracy_score(y_val, (model.predict(X_val, verbose=0) > 0.5).astype('int32')))"
      ],
      "metadata": {
        "colab": {
          "base_uri": "https://localhost:8080/"
        },
        "id": "fcFkEBRVh8x9",
        "outputId": "2ae1e4d6-a605-4151-b95d-2905f50e5446"
      },
      "execution_count": 179,
      "outputs": [
        {
          "output_type": "stream",
          "name": "stdout",
          "text": [
            "AUC on Test Dataset: 0.7795238095238095\n",
            "Accuracy Score on Test Dataset: 0.76\n"
          ]
        }
      ]
    },
    {
      "cell_type": "code",
      "source": [],
      "metadata": {
        "id": "_9nmiv5fsJdS"
      },
      "execution_count": null,
      "outputs": []
    }
  ]
}